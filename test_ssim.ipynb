{
 "cells": [
  {
   "cell_type": "code",
   "execution_count": 1,
   "metadata": {},
   "outputs": [],
   "source": [
    "import sys\n",
    "sys.path.append('pytorch_ssim')\n",
    "from pytorch_ssim import SSIM"
   ]
  },
  {
   "cell_type": "code",
   "execution_count": 2,
   "metadata": {},
   "outputs": [
    {
     "data": {
      "text/plain": [
       "'pytorch_ssim'"
      ]
     },
     "execution_count": 2,
     "metadata": {},
     "output_type": "execute_result"
    }
   ],
   "source": [
    "SSIM.__module__"
   ]
  },
  {
   "cell_type": "code",
   "execution_count": 3,
   "metadata": {},
   "outputs": [
    {
     "name": "stdout",
     "output_type": "stream",
     "text": [
      "jlkdjf\n",
      "hello [0.0038659201394728076, 0.028565500784550377, 0.1353352832366127, 0.41111229050718745, 0.8007374029168081, 1.0, 0.8007374029168081, 0.41111229050718745, 0.1353352832366127, 0.028565500784550377, 0.0038659201394728076]\n"
     ]
    }
   ],
   "source": [
    "ssim_loss = SSIM(size_average=False).cuda()"
   ]
  },
  {
   "cell_type": "code",
   "execution_count": 4,
   "metadata": {},
   "outputs": [
    {
     "data": {
      "text/plain": [
       "70000"
      ]
     },
     "execution_count": 4,
     "metadata": {},
     "output_type": "execute_result"
    }
   ],
   "source": [
    "from pathlib import Path\n",
    "img_paths = sorted(list(Path('~/data/FFHQ/images1024x1024/').expanduser().glob('*/*.png')))\n",
    "len(img_paths)"
   ]
  },
  {
   "cell_type": "code",
   "execution_count": 5,
   "metadata": {},
   "outputs": [
    {
     "name": "stdout",
     "output_type": "stream",
     "text": [
      "hello [0.0038659201394728076, 0.028565500784550377, 0.1353352832366127, 0.41111229050718745, 0.8007374029168081, 1.0, 0.8007374029168081, 0.41111229050718745, 0.1353352832366127, 0.028565500784550377, 0.0038659201394728076]\n",
      "tensor([0.2924, 0.3978], device='cuda:0')\n",
      "same type: torch.cuda.FloatTensor\n",
      "tensor([0.3848, 0.4970], device='cuda:0')\n",
      "same type: torch.cuda.FloatTensor\n",
      "tensor([0.4050, 0.4070], device='cuda:0')\n",
      "same type: torch.cuda.FloatTensor\n",
      "tensor([0.4400, 0.4118], device='cuda:0')\n",
      "same type: torch.cuda.FloatTensor\n",
      "tensor([0.3646, 0.2865], device='cuda:0')\n",
      "same type: torch.cuda.FloatTensor\n",
      "tensor([0.4356, 0.3374], device='cuda:0')\n",
      "same type: torch.cuda.FloatTensor\n",
      "tensor([0.3329, 0.4182], device='cuda:0')\n",
      "same type: torch.cuda.FloatTensor\n",
      "tensor([0.4107, 0.3605], device='cuda:0')\n",
      "same type: torch.cuda.FloatTensor\n",
      "tensor([0.4519, 0.3943], device='cuda:0')\n",
      "same type: torch.cuda.FloatTensor\n",
      "tensor([0.4062, 0.4212], device='cuda:0')\n"
     ]
    }
   ],
   "source": [
    "from random import sample\n",
    "import skimage.io as io\n",
    "import numpy as np\n",
    "import torch\n",
    "\n",
    "def load_img(p, cuda=True):\n",
    "    img = io.imread(p).astype(np.float32) / 255.\n",
    "    img = img.transpose(2,0,1)[None, ...]\n",
    "    img = torch.from_numpy(img)\n",
    "    if cuda:\n",
    "        img = img.cuda()\n",
    "    return img\n",
    "\n",
    "for i in range(10):\n",
    "    p1, p2, p3, p4 = sample(img_paths, 4)\n",
    "    imgs1 = torch.cat([load_img(p1), load_img(p2)], dim=0)\n",
    "    imgs2 = torch.cat([load_img(p3), load_img(p4)], dim=0)\n",
    "    s1 = ssim_loss(imgs1,imgs2)\n",
    "    print(s1)"
   ]
  },
  {
   "cell_type": "code",
   "execution_count": 4,
   "metadata": {},
   "outputs": [],
   "source": [
    "from random import sample\n",
    "import skimage.io as io\n",
    "import numpy as np\n",
    "import torch\n",
    "\n",
    "def load_img(p, cuda=True):\n",
    "    img = io.imread(p).astype(np.float32) / 255.\n",
    "    img = img.transpose(2,0,1)[None, ...]\n",
    "    img = torch.from_numpy(img)\n",
    "    if cuda:\n",
    "        img = img.cuda()\n",
    "    return img\n",
    "\n",
    "# for i in range(10):\n",
    "#     p1, p2 = sample(img_paths, 2)\n",
    "#     img1, img2 = load_img(p1), load_img(p2)\n",
    "#     s1 = ssim_loss(img1,img2)\n",
    "#     print(s1.item())"
   ]
  },
  {
   "cell_type": "code",
   "execution_count": 5,
   "metadata": {},
   "outputs": [],
   "source": [
    "ssim_pairwise_distance = np.empty((len(img_paths),len(img_paths)), np.float32)"
   ]
  },
  {
   "cell_type": "markdown",
   "metadata": {},
   "source": [
    "## Too slow"
   ]
  },
  {
   "cell_type": "code",
   "execution_count": 6,
   "metadata": {},
   "outputs": [
    {
     "name": "stderr",
     "output_type": "stream",
     "text": [
      "  0%|          | 1/70000 [1:38:04<114410:54:26, 5884.07s/it]"
     ]
    },
    {
     "ename": "KeyboardInterrupt",
     "evalue": "",
     "output_type": "error",
     "traceback": [
      "\u001b[0;31m---------------------------------------------------------------------------\u001b[0m",
      "\u001b[0;31mKeyboardInterrupt\u001b[0m                         Traceback (most recent call last)",
      "\u001b[0;32m<ipython-input-6-acf880386bdb>\u001b[0m in \u001b[0;36m<module>\u001b[0;34m\u001b[0m\n\u001b[1;32m      4\u001b[0m     \u001b[0;32mfor\u001b[0m \u001b[0mj\u001b[0m \u001b[0;32min\u001b[0m \u001b[0mrange\u001b[0m\u001b[0;34m(\u001b[0m\u001b[0mi\u001b[0m\u001b[0;34m,\u001b[0m \u001b[0mlen\u001b[0m\u001b[0;34m(\u001b[0m\u001b[0mimg_paths\u001b[0m\u001b[0;34m)\u001b[0m\u001b[0;34m)\u001b[0m\u001b[0;34m:\u001b[0m\u001b[0;34m\u001b[0m\u001b[0;34m\u001b[0m\u001b[0m\n\u001b[1;32m      5\u001b[0m         \u001b[0mimg2\u001b[0m \u001b[0;34m=\u001b[0m \u001b[0mload_img\u001b[0m\u001b[0;34m(\u001b[0m\u001b[0mimg_paths\u001b[0m\u001b[0;34m[\u001b[0m\u001b[0mj\u001b[0m\u001b[0;34m]\u001b[0m\u001b[0;34m)\u001b[0m\u001b[0;34m\u001b[0m\u001b[0;34m\u001b[0m\u001b[0m\n\u001b[0;32m----> 6\u001b[0;31m         \u001b[0mssim_pairwise_distance\u001b[0m\u001b[0;34m[\u001b[0m\u001b[0mi\u001b[0m\u001b[0;34m,\u001b[0m\u001b[0mj\u001b[0m\u001b[0;34m]\u001b[0m \u001b[0;34m=\u001b[0m \u001b[0;36m1.\u001b[0m \u001b[0;34m-\u001b[0m \u001b[0mssim_loss\u001b[0m\u001b[0;34m(\u001b[0m\u001b[0mimg1\u001b[0m\u001b[0;34m,\u001b[0m \u001b[0mimg2\u001b[0m\u001b[0;34m)\u001b[0m\u001b[0;34m\u001b[0m\u001b[0;34m\u001b[0m\u001b[0m\n\u001b[0m",
      "\u001b[0;31mKeyboardInterrupt\u001b[0m: "
     ]
    }
   ],
   "source": [
    "from tqdm import tqdm\n",
    "for i in tqdm(range(len(img_paths))):\n",
    "    img1 = load_img(img_paths[i])\n",
    "    for j in range(i, len(img_paths)):\n",
    "        img2 = load_img(img_paths[j])\n",
    "        ssim_pairwise_distance[i,j] = 1. - ssim_loss(img1, img2)"
   ]
  }
 ],
 "metadata": {
  "kernelspec": {
   "display_name": "py3.8",
   "language": "python",
   "name": "py3.8"
  },
  "language_info": {
   "codemirror_mode": {
    "name": "ipython",
    "version": 3
   },
   "file_extension": ".py",
   "mimetype": "text/x-python",
   "name": "python",
   "nbconvert_exporter": "python",
   "pygments_lexer": "ipython3",
   "version": "3.8.5"
  }
 },
 "nbformat": 4,
 "nbformat_minor": 4
}
