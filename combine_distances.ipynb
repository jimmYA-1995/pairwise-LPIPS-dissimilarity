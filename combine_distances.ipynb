{
 "cells": [
  {
   "cell_type": "code",
   "execution_count": 1,
   "metadata": {},
   "outputs": [],
   "source": [
    "from pathlib import Path\n",
    "import pickle\n",
    "import numpy as np\n",
    "from tqdm import tqdm"
   ]
  },
  {
   "cell_type": "code",
   "execution_count": 2,
   "metadata": {},
   "outputs": [],
   "source": [
    "# filename format: dist-{start_block}-{end_block}.pkl\n",
    "PKL_DIR = Path('dists')\n",
    "N_FEAT = 70000"
   ]
  },
  {
   "cell_type": "code",
   "execution_count": 3,
   "metadata": {},
   "outputs": [],
   "source": [
    "pkl_paths = list(PKL_DIR.glob('*.pkl'))\n",
    "pkl_paths.sort(key=lambda p: int(p.stem.split('-')[1])) # sort by start block"
   ]
  },
  {
   "cell_type": "code",
   "execution_count": 4,
   "metadata": {},
   "outputs": [
    {
     "data": {
      "text/plain": [
       "[PosixPath('dists/dist-0-3339.pkl'),\n",
       " PosixPath('dists/dist-3339-6678.pkl'),\n",
       " PosixPath('dists/dist-6678-10017.pkl'),\n",
       " PosixPath('dists/dist-10017-13356.pkl'),\n",
       " PosixPath('dists/dist-13356-16695.pkl'),\n",
       " PosixPath('dists/dist-16695-20034.pkl'),\n",
       " PosixPath('dists/dist-20034-23373.pkl'),\n",
       " PosixPath('dists/dist-23373-26712.pkl'),\n",
       " PosixPath('dists/dist-26712-30051.pkl'),\n",
       " PosixPath('dists/dist-30051-33390.pkl'),\n",
       " PosixPath('dists/dist-33390-36729.pkl'),\n",
       " PosixPath('dists/dist-36729-40068.pkl'),\n",
       " PosixPath('dists/dist-40068-43407.pkl'),\n",
       " PosixPath('dists/dist-43407-46746.pkl'),\n",
       " PosixPath('dists/dist-46746-50085.pkl'),\n",
       " PosixPath('dists/dist-50085-53424.pkl'),\n",
       " PosixPath('dists/dist-53424-56763.pkl'),\n",
       " PosixPath('dists/dist-56763-60102.pkl'),\n",
       " PosixPath('dists/dist-60102-63441.pkl'),\n",
       " PosixPath('dists/dist-63441-66780.pkl'),\n",
       " PosixPath('dists/dist-66780-70119.pkl'),\n",
       " PosixPath('dists/dist-70119-73458.pkl'),\n",
       " PosixPath('dists/dist-73458-76797.pkl'),\n",
       " PosixPath('dists/dist-76797-80136.pkl'),\n",
       " PosixPath('dists/dist-80136-83475.pkl'),\n",
       " PosixPath('dists/dist-83475-86814.pkl'),\n",
       " PosixPath('dists/dist-86814-90153.pkl'),\n",
       " PosixPath('dists/dist-90153-93492.pkl'),\n",
       " PosixPath('dists/dist-93492-96831.pkl'),\n",
       " PosixPath('dists/dist-96831-100170.pkl'),\n",
       " PosixPath('dists/dist-100170-103509.pkl'),\n",
       " PosixPath('dists/dist-103509-106848.pkl'),\n",
       " PosixPath('dists/dist-106848-110187.pkl'),\n",
       " PosixPath('dists/dist-110187-113526.pkl'),\n",
       " PosixPath('dists/dist-113526-116865.pkl'),\n",
       " PosixPath('dists/dist-116865-120204.pkl'),\n",
       " PosixPath('dists/dist-120204-123543.pkl'),\n",
       " PosixPath('dists/dist-123543-126882.pkl'),\n",
       " PosixPath('dists/dist-126882-130221.pkl'),\n",
       " PosixPath('dists/dist-130221-133560.pkl'),\n",
       " PosixPath('dists/dist-133560-136899.pkl'),\n",
       " PosixPath('dists/dist-136899-140238.pkl'),\n",
       " PosixPath('dists/dist-140238-143577.pkl'),\n",
       " PosixPath('dists/dist-143577-146916.pkl'),\n",
       " PosixPath('dists/dist-146916-150255.pkl'),\n",
       " PosixPath('dists/dist-150255-153594.pkl'),\n",
       " PosixPath('dists/dist-153594-156933.pkl'),\n",
       " PosixPath('dists/dist-156933-160272.pkl'),\n",
       " PosixPath('dists/dist-160272-163611.pkl'),\n",
       " PosixPath('dists/dist-163611-166950.pkl'),\n",
       " PosixPath('dists/dist-166950-170289.pkl'),\n",
       " PosixPath('dists/dist-170289-173628.pkl'),\n",
       " PosixPath('dists/dist-173628-176967.pkl'),\n",
       " PosixPath('dists/dist-176967-180306.pkl'),\n",
       " PosixPath('dists/dist-180306-183645.pkl'),\n",
       " PosixPath('dists/dist-183645-186984.pkl'),\n",
       " PosixPath('dists/dist-186984-190323.pkl'),\n",
       " PosixPath('dists/dist-190323-193662.pkl'),\n",
       " PosixPath('dists/dist-193662-197001.pkl'),\n",
       " PosixPath('dists/dist-197001-200340.pkl'),\n",
       " PosixPath('dists/dist-200340-203679.pkl'),\n",
       " PosixPath('dists/dist-203679-207018.pkl'),\n",
       " PosixPath('dists/dist-207018-210357.pkl'),\n",
       " PosixPath('dists/dist-210357-213696.pkl'),\n",
       " PosixPath('dists/dist-213696-217035.pkl'),\n",
       " PosixPath('dists/dist-217035-220374.pkl'),\n",
       " PosixPath('dists/dist-220374-223713.pkl'),\n",
       " PosixPath('dists/dist-223713-227052.pkl'),\n",
       " PosixPath('dists/dist-227052-230391.pkl'),\n",
       " PosixPath('dists/dist-230391-233730.pkl'),\n",
       " PosixPath('dists/dist-233730-237069.pkl'),\n",
       " PosixPath('dists/dist-237069-240408.pkl'),\n",
       " PosixPath('dists/dist-240408-243747.pkl'),\n",
       " PosixPath('dists/dist-243747-247086.pkl'),\n",
       " PosixPath('dists/dist-247086-250425.pkl'),\n",
       " PosixPath('dists/dist-250425-253764.pkl'),\n",
       " PosixPath('dists/dist-253764-257103.pkl'),\n",
       " PosixPath('dists/dist-257103-260442.pkl'),\n",
       " PosixPath('dists/dist-260442-263781.pkl'),\n",
       " PosixPath('dists/dist-263781-266815.pkl')]"
      ]
     },
     "execution_count": 4,
     "metadata": {},
     "output_type": "execute_result"
    }
   ],
   "source": [
    "pkl_paths"
   ]
  },
  {
   "cell_type": "code",
   "execution_count": 5,
   "metadata": {},
   "outputs": [],
   "source": [
    "# 66780 - 70119"
   ]
  },
  {
   "cell_type": "code",
   "execution_count": 5,
   "metadata": {},
   "outputs": [],
   "source": [
    "dist_m = np.empty((N_FEAT, N_FEAT), dtype=np.float32)"
   ]
  },
  {
   "cell_type": "code",
   "execution_count": 6,
   "metadata": {},
   "outputs": [
    {
     "data": {
      "text/plain": [
       "array([[0., 0., 0., 0., 0., 0., 0., 0., 0., 0., 0., 0., 0., 0., 0., 0.,\n",
       "        0., 0., 0., 0.],\n",
       "       [0., 0., 0., 0., 0., 0., 0., 0., 0., 0., 0., 0., 0., 0., 0., 0.,\n",
       "        0., 0., 0., 0.],\n",
       "       [0., 0., 0., 0., 0., 0., 0., 0., 0., 0., 0., 0., 0., 0., 0., 0.,\n",
       "        0., 0., 0., 0.],\n",
       "       [0., 0., 0., 0., 0., 0., 0., 0., 0., 0., 0., 0., 0., 0., 0., 0.,\n",
       "        0., 0., 0., 0.],\n",
       "       [0., 0., 0., 0., 0., 0., 0., 0., 0., 0., 0., 0., 0., 0., 0., 0.,\n",
       "        0., 0., 0., 0.],\n",
       "       [0., 0., 0., 0., 0., 0., 0., 0., 0., 0., 0., 0., 0., 0., 0., 0.,\n",
       "        0., 0., 0., 0.],\n",
       "       [0., 0., 0., 0., 0., 0., 0., 0., 0., 0., 0., 0., 0., 0., 0., 0.,\n",
       "        0., 0., 0., 0.],\n",
       "       [0., 0., 0., 0., 0., 0., 0., 0., 0., 0., 0., 0., 0., 0., 0., 0.,\n",
       "        0., 0., 0., 0.],\n",
       "       [0., 0., 0., 0., 0., 0., 0., 0., 0., 0., 0., 0., 0., 0., 0., 0.,\n",
       "        0., 0., 0., 0.],\n",
       "       [0., 0., 0., 0., 0., 0., 0., 0., 0., 0., 0., 0., 0., 0., 0., 0.,\n",
       "        0., 0., 0., 0.]], dtype=float32)"
      ]
     },
     "execution_count": 6,
     "metadata": {},
     "output_type": "execute_result"
    }
   ],
   "source": [
    "dist_m[50:60,:20]"
   ]
  },
  {
   "cell_type": "code",
   "execution_count": 7,
   "metadata": {},
   "outputs": [
    {
     "name": "stderr",
     "output_type": "stream",
     "text": [
      "  0%|          | 0/80 [00:00<?, ?it/s]"
     ]
    },
    {
     "name": "stdout",
     "output_type": "stream",
     "text": [
      "2187\r"
     ]
    },
    {
     "name": "stderr",
     "output_type": "stream",
     "text": [
      "  1%|▏         | 1/80 [00:00<00:44,  1.79it/s]"
     ]
    },
    {
     "name": "stdout",
     "output_type": "stream",
     "text": [
      "5632\r"
     ]
    },
    {
     "name": "stderr",
     "output_type": "stream",
     "text": [
      "  2%|▎         | 2/80 [00:01<00:41,  1.89it/s]"
     ]
    },
    {
     "name": "stdout",
     "output_type": "stream",
     "text": [
      "8998\r"
     ]
    },
    {
     "name": "stderr",
     "output_type": "stream",
     "text": [
      "  4%|▍         | 3/80 [00:01<00:38,  2.01it/s]"
     ]
    },
    {
     "name": "stdout",
     "output_type": "stream",
     "text": [
      "12414\r"
     ]
    },
    {
     "name": "stderr",
     "output_type": "stream",
     "text": [
      "  5%|▌         | 4/80 [00:01<00:35,  2.13it/s]"
     ]
    },
    {
     "name": "stdout",
     "output_type": "stream",
     "text": [
      "15782\r"
     ]
    },
    {
     "name": "stderr",
     "output_type": "stream",
     "text": [
      "  6%|▋         | 5/80 [00:02<00:33,  2.22it/s]"
     ]
    },
    {
     "name": "stdout",
     "output_type": "stream",
     "text": [
      "19046\r"
     ]
    },
    {
     "name": "stderr",
     "output_type": "stream",
     "text": [
      "  8%|▊         | 6/80 [00:02<00:32,  2.26it/s]"
     ]
    },
    {
     "name": "stdout",
     "output_type": "stream",
     "text": [
      "22285\r"
     ]
    },
    {
     "name": "stderr",
     "output_type": "stream",
     "text": [
      "  9%|▉         | 7/80 [00:03<00:31,  2.31it/s]"
     ]
    },
    {
     "name": "stdout",
     "output_type": "stream",
     "text": [
      "25747\r"
     ]
    },
    {
     "name": "stderr",
     "output_type": "stream",
     "text": [
      " 10%|█         | 8/80 [00:03<00:30,  2.36it/s]"
     ]
    },
    {
     "name": "stdout",
     "output_type": "stream",
     "text": [
      "29110\r"
     ]
    },
    {
     "name": "stderr",
     "output_type": "stream",
     "text": [
      " 11%|█▏        | 9/80 [00:03<00:29,  2.38it/s]"
     ]
    },
    {
     "name": "stdout",
     "output_type": "stream",
     "text": [
      "32466\r"
     ]
    },
    {
     "name": "stderr",
     "output_type": "stream",
     "text": [
      " 12%|█▎        | 10/80 [00:04<00:29,  2.41it/s]"
     ]
    },
    {
     "name": "stdout",
     "output_type": "stream",
     "text": [
      "35801\r"
     ]
    },
    {
     "name": "stderr",
     "output_type": "stream",
     "text": [
      " 14%|█▍        | 11/80 [00:04<00:28,  2.41it/s]"
     ]
    },
    {
     "name": "stdout",
     "output_type": "stream",
     "text": [
      "39106\r"
     ]
    },
    {
     "name": "stderr",
     "output_type": "stream",
     "text": [
      " 15%|█▌        | 12/80 [00:05<00:28,  2.39it/s]"
     ]
    },
    {
     "name": "stdout",
     "output_type": "stream",
     "text": [
      "42441\r"
     ]
    },
    {
     "name": "stderr",
     "output_type": "stream",
     "text": [
      " 16%|█▋        | 13/80 [00:05<00:27,  2.40it/s]"
     ]
    },
    {
     "name": "stdout",
     "output_type": "stream",
     "text": [
      "45815\r"
     ]
    },
    {
     "name": "stderr",
     "output_type": "stream",
     "text": [
      " 18%|█▊        | 14/80 [00:05<00:27,  2.41it/s]"
     ]
    },
    {
     "name": "stdout",
     "output_type": "stream",
     "text": [
      "49132\r"
     ]
    },
    {
     "name": "stderr",
     "output_type": "stream",
     "text": [
      " 19%|█▉        | 15/80 [00:06<00:26,  2.42it/s]"
     ]
    },
    {
     "name": "stdout",
     "output_type": "stream",
     "text": [
      "52371\r"
     ]
    },
    {
     "name": "stderr",
     "output_type": "stream",
     "text": [
      " 20%|██        | 16/80 [00:06<00:26,  2.41it/s]"
     ]
    },
    {
     "name": "stdout",
     "output_type": "stream",
     "text": [
      "55750\r"
     ]
    },
    {
     "name": "stderr",
     "output_type": "stream",
     "text": [
      " 21%|██▏       | 17/80 [00:07<00:26,  2.38it/s]"
     ]
    },
    {
     "name": "stdout",
     "output_type": "stream",
     "text": [
      "59125\r"
     ]
    },
    {
     "name": "stderr",
     "output_type": "stream",
     "text": [
      " 22%|██▎       | 18/80 [00:07<00:26,  2.38it/s]"
     ]
    },
    {
     "name": "stdout",
     "output_type": "stream",
     "text": [
      "62428\r"
     ]
    },
    {
     "name": "stderr",
     "output_type": "stream",
     "text": [
      " 24%|██▍       | 19/80 [00:08<00:25,  2.36it/s]"
     ]
    },
    {
     "name": "stdout",
     "output_type": "stream",
     "text": [
      "65753\r"
     ]
    },
    {
     "name": "stderr",
     "output_type": "stream",
     "text": [
      " 25%|██▌       | 20/80 [00:08<00:25,  2.35it/s]"
     ]
    },
    {
     "name": "stdout",
     "output_type": "stream",
     "text": [
      "69143\r"
     ]
    },
    {
     "name": "stderr",
     "output_type": "stream",
     "text": [
      " 26%|██▋       | 21/80 [00:08<00:24,  2.38it/s]"
     ]
    },
    {
     "name": "stdout",
     "output_type": "stream",
     "text": [
      "72506\r"
     ]
    },
    {
     "name": "stderr",
     "output_type": "stream",
     "text": [
      " 28%|██▊       | 22/80 [00:09<00:24,  2.40it/s]"
     ]
    },
    {
     "name": "stdout",
     "output_type": "stream",
     "text": [
      "75733"
     ]
    },
    {
     "name": "stderr",
     "output_type": "stream",
     "text": [
      " 29%|██▉       | 23/80 [00:09<00:23,  2.38it/s]"
     ]
    },
    {
     "name": "stdout",
     "output_type": "stream",
     "text": [
      "79165\r"
     ]
    },
    {
     "name": "stderr",
     "output_type": "stream",
     "text": [
      " 30%|███       | 24/80 [00:10<00:23,  2.38it/s]"
     ]
    },
    {
     "name": "stdout",
     "output_type": "stream",
     "text": [
      "82408\r"
     ]
    },
    {
     "name": "stderr",
     "output_type": "stream",
     "text": [
      " 31%|███▏      | 25/80 [00:10<00:23,  2.37it/s]"
     ]
    },
    {
     "name": "stdout",
     "output_type": "stream",
     "text": [
      "85691\r"
     ]
    },
    {
     "name": "stderr",
     "output_type": "stream",
     "text": [
      " 32%|███▎      | 26/80 [00:11<00:22,  2.37it/s]"
     ]
    },
    {
     "name": "stdout",
     "output_type": "stream",
     "text": [
      "89010\r"
     ]
    },
    {
     "name": "stderr",
     "output_type": "stream",
     "text": [
      " 34%|███▍      | 27/80 [00:11<00:22,  2.34it/s]"
     ]
    },
    {
     "name": "stdout",
     "output_type": "stream",
     "text": [
      "92555\r"
     ]
    },
    {
     "name": "stderr",
     "output_type": "stream",
     "text": [
      " 35%|███▌      | 28/80 [00:11<00:21,  2.38it/s]"
     ]
    },
    {
     "name": "stdout",
     "output_type": "stream",
     "text": [
      "95771\r"
     ]
    },
    {
     "name": "stderr",
     "output_type": "stream",
     "text": [
      " 36%|███▋      | 29/80 [00:12<00:21,  2.36it/s]"
     ]
    },
    {
     "name": "stdout",
     "output_type": "stream",
     "text": [
      "99090\r"
     ]
    },
    {
     "name": "stderr",
     "output_type": "stream",
     "text": [
      " 38%|███▊      | 30/80 [00:12<00:21,  2.38it/s]"
     ]
    },
    {
     "name": "stdout",
     "output_type": "stream",
     "text": [
      "102364\r"
     ]
    },
    {
     "name": "stderr",
     "output_type": "stream",
     "text": [
      " 39%|███▉      | 31/80 [00:13<00:20,  2.37it/s]"
     ]
    },
    {
     "name": "stdout",
     "output_type": "stream",
     "text": [
      "105766\r"
     ]
    },
    {
     "name": "stderr",
     "output_type": "stream",
     "text": [
      " 40%|████      | 32/80 [00:13<00:20,  2.36it/s]"
     ]
    },
    {
     "name": "stdout",
     "output_type": "stream",
     "text": [
      "109167\r"
     ]
    },
    {
     "name": "stderr",
     "output_type": "stream",
     "text": [
      " 41%|████▏     | 33/80 [00:13<00:19,  2.36it/s]"
     ]
    },
    {
     "name": "stdout",
     "output_type": "stream",
     "text": [
      "112486\r"
     ]
    },
    {
     "name": "stderr",
     "output_type": "stream",
     "text": [
      " 42%|████▎     | 34/80 [00:14<00:19,  2.36it/s]"
     ]
    },
    {
     "name": "stdout",
     "output_type": "stream",
     "text": [
      "115840\r"
     ]
    },
    {
     "name": "stderr",
     "output_type": "stream",
     "text": [
      " 44%|████▍     | 35/80 [00:14<00:19,  2.37it/s]"
     ]
    },
    {
     "name": "stdout",
     "output_type": "stream",
     "text": [
      "119137\r"
     ]
    },
    {
     "name": "stderr",
     "output_type": "stream",
     "text": [
      " 45%|████▌     | 36/80 [00:15<00:18,  2.39it/s]"
     ]
    },
    {
     "name": "stdout",
     "output_type": "stream",
     "text": [
      "122407\r"
     ]
    },
    {
     "name": "stderr",
     "output_type": "stream",
     "text": [
      " 46%|████▋     | 37/80 [00:15<00:18,  2.39it/s]"
     ]
    },
    {
     "name": "stdout",
     "output_type": "stream",
     "text": [
      "125931\r"
     ]
    },
    {
     "name": "stderr",
     "output_type": "stream",
     "text": [
      " 48%|████▊     | 38/80 [00:16<00:17,  2.40it/s]"
     ]
    },
    {
     "name": "stdout",
     "output_type": "stream",
     "text": [
      "129204\r"
     ]
    },
    {
     "name": "stderr",
     "output_type": "stream",
     "text": [
      " 49%|████▉     | 39/80 [00:16<00:17,  2.39it/s]"
     ]
    },
    {
     "name": "stdout",
     "output_type": "stream",
     "text": [
      "132508\r"
     ]
    },
    {
     "name": "stderr",
     "output_type": "stream",
     "text": [
      " 50%|█████     | 40/80 [00:16<00:16,  2.40it/s]"
     ]
    },
    {
     "name": "stdout",
     "output_type": "stream",
     "text": [
      "135908\r"
     ]
    },
    {
     "name": "stderr",
     "output_type": "stream",
     "text": [
      " 51%|█████▏    | 41/80 [00:17<00:16,  2.41it/s]"
     ]
    },
    {
     "name": "stdout",
     "output_type": "stream",
     "text": [
      "139053\r"
     ]
    },
    {
     "name": "stderr",
     "output_type": "stream",
     "text": [
      " 52%|█████▎    | 42/80 [00:17<00:15,  2.38it/s]"
     ]
    },
    {
     "name": "stdout",
     "output_type": "stream",
     "text": [
      "142564\r"
     ]
    },
    {
     "name": "stderr",
     "output_type": "stream",
     "text": [
      " 54%|█████▍    | 43/80 [00:18<00:15,  2.40it/s]"
     ]
    },
    {
     "name": "stdout",
     "output_type": "stream",
     "text": [
      "145881\r"
     ]
    },
    {
     "name": "stderr",
     "output_type": "stream",
     "text": [
      " 55%|█████▌    | 44/80 [00:18<00:15,  2.40it/s]"
     ]
    },
    {
     "name": "stdout",
     "output_type": "stream",
     "text": [
      "149107\r"
     ]
    },
    {
     "name": "stderr",
     "output_type": "stream",
     "text": [
      " 56%|█████▋    | 45/80 [00:19<00:14,  2.36it/s]"
     ]
    },
    {
     "name": "stdout",
     "output_type": "stream",
     "text": [
      "152406\r"
     ]
    },
    {
     "name": "stderr",
     "output_type": "stream",
     "text": [
      " 57%|█████▊    | 46/80 [00:19<00:14,  2.32it/s]"
     ]
    },
    {
     "name": "stdout",
     "output_type": "stream",
     "text": [
      "155329\r"
     ]
    },
    {
     "name": "stderr",
     "output_type": "stream",
     "text": [
      " 59%|█████▉    | 47/80 [00:19<00:14,  2.21it/s]"
     ]
    },
    {
     "name": "stdout",
     "output_type": "stream",
     "text": [
      "159136\r"
     ]
    },
    {
     "name": "stderr",
     "output_type": "stream",
     "text": [
      " 60%|██████    | 48/80 [00:20<00:14,  2.23it/s]"
     ]
    },
    {
     "name": "stdout",
     "output_type": "stream",
     "text": [
      "162568\r"
     ]
    },
    {
     "name": "stderr",
     "output_type": "stream",
     "text": [
      " 61%|██████▏   | 49/80 [00:20<00:13,  2.23it/s]"
     ]
    },
    {
     "name": "stdout",
     "output_type": "stream",
     "text": [
      "165879\r"
     ]
    },
    {
     "name": "stderr",
     "output_type": "stream",
     "text": [
      " 62%|██████▎   | 50/80 [00:21<00:13,  2.27it/s]"
     ]
    },
    {
     "name": "stdout",
     "output_type": "stream",
     "text": [
      "169129\r"
     ]
    },
    {
     "name": "stderr",
     "output_type": "stream",
     "text": [
      " 64%|██████▍   | 51/80 [00:21<00:12,  2.25it/s]"
     ]
    },
    {
     "name": "stdout",
     "output_type": "stream",
     "text": [
      "172444\r"
     ]
    },
    {
     "name": "stderr",
     "output_type": "stream",
     "text": [
      " 65%|██████▌   | 52/80 [00:22<00:12,  2.27it/s]"
     ]
    },
    {
     "name": "stdout",
     "output_type": "stream",
     "text": [
      "175842\r"
     ]
    },
    {
     "name": "stderr",
     "output_type": "stream",
     "text": [
      " 66%|██████▋   | 53/80 [00:22<00:11,  2.29it/s]"
     ]
    },
    {
     "name": "stdout",
     "output_type": "stream",
     "text": [
      "179244\r"
     ]
    },
    {
     "name": "stderr",
     "output_type": "stream",
     "text": [
      " 68%|██████▊   | 54/80 [00:23<00:11,  2.30it/s]"
     ]
    },
    {
     "name": "stdout",
     "output_type": "stream",
     "text": [
      "182560\r"
     ]
    },
    {
     "name": "stderr",
     "output_type": "stream",
     "text": [
      " 69%|██████▉   | 55/80 [00:23<00:10,  2.31it/s]"
     ]
    },
    {
     "name": "stdout",
     "output_type": "stream",
     "text": [
      "185580\r"
     ]
    },
    {
     "name": "stderr",
     "output_type": "stream",
     "text": [
      " 70%|███████   | 56/80 [00:24<00:11,  2.08it/s]"
     ]
    },
    {
     "name": "stdout",
     "output_type": "stream",
     "text": [
      "189434\r"
     ]
    },
    {
     "name": "stderr",
     "output_type": "stream",
     "text": [
      " 71%|███████▏  | 57/80 [00:24<00:14,  1.62it/s]"
     ]
    },
    {
     "name": "stdout",
     "output_type": "stream",
     "text": [
      "193177\r"
     ]
    },
    {
     "name": "stderr",
     "output_type": "stream",
     "text": [
      " 72%|███████▎  | 58/80 [00:26<00:16,  1.33it/s]"
     ]
    },
    {
     "name": "stdout",
     "output_type": "stream",
     "text": [
      "196716\r"
     ]
    },
    {
     "name": "stderr",
     "output_type": "stream",
     "text": [
      " 74%|███████▍  | 59/80 [00:26<00:15,  1.31it/s]"
     ]
    },
    {
     "name": "stdout",
     "output_type": "stream",
     "text": [
      "198550\r"
     ]
    },
    {
     "name": "stderr",
     "output_type": "stream",
     "text": [
      " 75%|███████▌  | 60/80 [00:27<00:14,  1.38it/s]"
     ]
    },
    {
     "name": "stdout",
     "output_type": "stream",
     "text": [
      "203505\r"
     ]
    },
    {
     "name": "stderr",
     "output_type": "stream",
     "text": [
      " 76%|███████▋  | 61/80 [00:28<00:13,  1.38it/s]"
     ]
    },
    {
     "name": "stdout",
     "output_type": "stream",
     "text": [
      "205408\r"
     ]
    },
    {
     "name": "stderr",
     "output_type": "stream",
     "text": [
      " 78%|███████▊  | 62/80 [00:28<00:12,  1.47it/s]"
     ]
    },
    {
     "name": "stdout",
     "output_type": "stream",
     "text": [
      "208968\r"
     ]
    },
    {
     "name": "stderr",
     "output_type": "stream",
     "text": [
      " 79%|███████▉  | 63/80 [00:29<00:12,  1.36it/s]"
     ]
    },
    {
     "name": "stdout",
     "output_type": "stream",
     "text": [
      "213663\r"
     ]
    },
    {
     "name": "stderr",
     "output_type": "stream",
     "text": [
      " 80%|████████  | 64/80 [00:30<00:12,  1.24it/s]"
     ]
    },
    {
     "name": "stdout",
     "output_type": "stream",
     "text": [
      "216456\r"
     ]
    },
    {
     "name": "stderr",
     "output_type": "stream",
     "text": [
      " 81%|████████▏ | 65/80 [00:31<00:10,  1.43it/s]"
     ]
    },
    {
     "name": "stdout",
     "output_type": "stream",
     "text": [
      "219387\r"
     ]
    },
    {
     "name": "stderr",
     "output_type": "stream",
     "text": [
      " 82%|████████▎ | 66/80 [00:31<00:08,  1.61it/s]"
     ]
    },
    {
     "name": "stdout",
     "output_type": "stream",
     "text": [
      "222464\r"
     ]
    },
    {
     "name": "stderr",
     "output_type": "stream",
     "text": [
      " 84%|████████▍ | 67/80 [00:31<00:07,  1.76it/s]"
     ]
    },
    {
     "name": "stdout",
     "output_type": "stream",
     "text": [
      "225783\r"
     ]
    },
    {
     "name": "stderr",
     "output_type": "stream",
     "text": [
      " 85%|████████▌ | 68/80 [00:32<00:06,  1.88it/s]"
     ]
    },
    {
     "name": "stdout",
     "output_type": "stream",
     "text": [
      "229102\r"
     ]
    },
    {
     "name": "stderr",
     "output_type": "stream",
     "text": [
      " 86%|████████▋ | 69/80 [00:32<00:05,  1.97it/s]"
     ]
    },
    {
     "name": "stdout",
     "output_type": "stream",
     "text": [
      "232371\r"
     ]
    },
    {
     "name": "stderr",
     "output_type": "stream",
     "text": [
      " 88%|████████▊ | 70/80 [00:33<00:04,  2.03it/s]"
     ]
    },
    {
     "name": "stdout",
     "output_type": "stream",
     "text": [
      "235718\r"
     ]
    },
    {
     "name": "stderr",
     "output_type": "stream",
     "text": [
      " 89%|████████▉ | 71/80 [00:33<00:04,  2.07it/s]"
     ]
    },
    {
     "name": "stdout",
     "output_type": "stream",
     "text": [
      "238989\r"
     ]
    },
    {
     "name": "stderr",
     "output_type": "stream",
     "text": [
      " 90%|█████████ | 72/80 [00:34<00:03,  2.08it/s]"
     ]
    },
    {
     "name": "stdout",
     "output_type": "stream",
     "text": [
      "242284\r"
     ]
    },
    {
     "name": "stderr",
     "output_type": "stream",
     "text": [
      " 91%|█████████▏| 73/80 [00:34<00:03,  2.08it/s]"
     ]
    },
    {
     "name": "stdout",
     "output_type": "stream",
     "text": [
      "245700\r"
     ]
    },
    {
     "name": "stderr",
     "output_type": "stream",
     "text": [
      " 92%|█████████▎| 74/80 [00:35<00:02,  2.10it/s]"
     ]
    },
    {
     "name": "stdout",
     "output_type": "stream",
     "text": [
      "248911\r"
     ]
    },
    {
     "name": "stderr",
     "output_type": "stream",
     "text": [
      " 94%|█████████▍| 75/80 [00:35<00:02,  2.09it/s]"
     ]
    },
    {
     "name": "stdout",
     "output_type": "stream",
     "text": [
      "252271\r"
     ]
    },
    {
     "name": "stderr",
     "output_type": "stream",
     "text": [
      " 95%|█████████▌| 76/80 [00:36<00:01,  2.05it/s]"
     ]
    },
    {
     "name": "stdout",
     "output_type": "stream",
     "text": [
      "255561\r"
     ]
    },
    {
     "name": "stderr",
     "output_type": "stream",
     "text": [
      " 96%|█████████▋| 77/80 [00:36<00:01,  2.01it/s]"
     ]
    },
    {
     "name": "stdout",
     "output_type": "stream",
     "text": [
      "258837\r"
     ]
    },
    {
     "name": "stderr",
     "output_type": "stream",
     "text": [
      " 98%|█████████▊| 78/80 [00:37<00:01,  1.98it/s]"
     ]
    },
    {
     "name": "stdout",
     "output_type": "stream",
     "text": [
      "263441\r"
     ]
    },
    {
     "name": "stderr",
     "output_type": "stream",
     "text": [
      " 99%|█████████▉| 79/80 [00:37<00:00,  1.89it/s]"
     ]
    },
    {
     "name": "stdout",
     "output_type": "stream",
     "text": [
      "266812\r"
     ]
    },
    {
     "name": "stderr",
     "output_type": "stream",
     "text": [
      "100%|██████████| 80/80 [00:38<00:00,  1.68it/s]"
     ]
    },
    {
     "name": "stdout",
     "output_type": "stream",
     "text": [
      "266814\r"
     ]
    },
    {
     "name": "stderr",
     "output_type": "stream",
     "text": [
      "\n"
     ]
    }
   ],
   "source": [
    "ri, ci = 0, 0\n",
    "b = 96\n",
    "n_row = 0\n",
    "for pkl in tqdm(pkl_paths):\n",
    "    dists = pickle.loads(pkl.read_bytes())\n",
    "    for dist in dists:\n",
    "        print(dist['idx'], end=\"\\r\")\n",
    "        diff = dist['diff']\n",
    "        row, col = diff.shape\n",
    "        \n",
    "        dist_m[ri:ri+row, ci:ci+col] = diff\n",
    "        ci += col\n",
    "        \n",
    "        if ci >= N_FEAT:\n",
    "            n_row += 1\n",
    "            ci = n_row * b\n",
    "            ri += row\n",
    "            # print(ri, ci)\n"
   ]
  },
  {
   "cell_type": "markdown",
   "metadata": {},
   "source": [
    "## Mirror (needs more than 60GB memory)"
   ]
  },
  {
   "cell_type": "code",
   "execution_count": 8,
   "metadata": {},
   "outputs": [
    {
     "name": "stdout",
     "output_type": "stream",
     "text": [
      "CPU times: user 1min 16s, sys: 26.1 s, total: 1min 42s\n",
      "Wall time: 1min 49s\n"
     ]
    }
   ],
   "source": [
    "%%time\n",
    "i,j = np.indices((N_FEAT,N_FEAT))\n",
    "rs, cs = np.where(i>j)\n",
    "dist_m[rs, cs] = dist_m[cs, rs]"
   ]
  },
  {
   "cell_type": "raw",
   "metadata": {},
   "source": [
    "%%time\n",
    "CPU times: user 12min 57s, sys: 21.4 s, total: 13min 18s\n",
    "Wall time: 13min 19s\n",
    "\n",
    "for i in range(N_FEAT):\n",
    "    for j in range(i):\n",
    "        dist_m[i,j] = dist_m[j,i]"
   ]
  },
  {
   "cell_type": "markdown",
   "metadata": {},
   "source": [
    "## manually check"
   ]
  },
  {
   "cell_type": "code",
   "execution_count": 9,
   "metadata": {},
   "outputs": [
    {
     "data": {
      "text/plain": [
       "array([[0.        , 0.5016638 , 0.43637922, 0.43052804, 0.4358623 ,\n",
       "        0.4315178 , 0.4634434 , 0.47165185, 0.43554252, 0.44267935,\n",
       "        0.42711473, 0.5302632 , 0.4369654 , 0.48988515, 0.4793476 ,\n",
       "        0.46850878, 0.49318507, 0.47148037, 0.44357598, 0.48106095],\n",
       "       [0.5016638 , 0.        , 0.42532545, 0.38366437, 0.57118326,\n",
       "        0.4510011 , 0.49595597, 0.49802208, 0.6041161 , 0.3945558 ,\n",
       "        0.45140627, 0.50153947, 0.49468184, 0.41014934, 0.48164308,\n",
       "        0.4072873 , 0.49408865, 0.48650277, 0.49031574, 0.57324815],\n",
       "       [0.43637922, 0.42532545, 0.        , 0.27905476, 0.34324622,\n",
       "        0.50815725, 0.40971994, 0.40489596, 0.5573299 , 0.4053464 ,\n",
       "        0.47860762, 0.49133292, 0.5664594 , 0.45451742, 0.41348404,\n",
       "        0.41546738, 0.46107185, 0.5207654 , 0.47558782, 0.52048934],\n",
       "       [0.43052804, 0.38366437, 0.27905476, 0.        , 0.43265548,\n",
       "        0.5404562 , 0.45606852, 0.3990143 , 0.40917617, 0.5937607 ,\n",
       "        0.49972507, 0.5329025 , 0.4289692 , 0.4134637 , 0.36404353,\n",
       "        0.56333166, 0.4891293 , 0.52286017, 0.4308087 , 0.46024638],\n",
       "       [0.4358623 , 0.57118326, 0.34324622, 0.43265548, 0.        ,\n",
       "        0.5461403 , 0.46035033, 0.51874006, 0.49465826, 0.553735  ,\n",
       "        0.55991507, 0.49170995, 0.5924829 , 0.6203486 , 0.5027349 ,\n",
       "        0.58627975, 0.56119007, 0.53573304, 0.49073407, 0.5056597 ],\n",
       "       [0.4315178 , 0.4510011 , 0.50815725, 0.5404562 , 0.5461403 ,\n",
       "        0.        , 0.44834447, 0.5356213 , 0.5486584 , 0.53198135,\n",
       "        0.55217683, 0.5719681 , 0.6090245 , 0.56534594, 0.41393805,\n",
       "        0.6028898 , 0.45997536, 0.5065516 , 0.47983488, 0.48477733],\n",
       "       [0.4634434 , 0.49595597, 0.40971994, 0.45606852, 0.46035033,\n",
       "        0.44834447, 0.        , 0.49895352, 0.5081198 , 0.5338306 ,\n",
       "        0.5905387 , 0.523261  , 0.59815085, 0.6038351 , 0.5012903 ,\n",
       "        0.61153626, 0.49154258, 0.54967403, 0.40926936, 0.51492476],\n",
       "       [0.47165185, 0.49802208, 0.40489596, 0.3990143 , 0.51874006,\n",
       "        0.5356213 , 0.49895352, 0.        , 0.5315337 , 0.5585312 ,\n",
       "        0.54947495, 0.5203953 , 0.587301  , 0.64147997, 0.512952  ,\n",
       "        0.5727861 , 0.55194545, 0.54180545, 0.49406627, 0.4687661 ],\n",
       "       [0.43554252, 0.6041161 , 0.5573299 , 0.40917617, 0.49465826,\n",
       "        0.5486584 , 0.5081198 , 0.5315337 , 0.        , 0.5130608 ,\n",
       "        0.5184386 , 0.47898817, 0.599035  , 0.6702113 , 0.46837968,\n",
       "        0.5879519 , 0.5510104 , 0.44205922, 0.49371785, 0.5034764 ],\n",
       "       [0.44267935, 0.3945558 , 0.4053464 , 0.5937607 , 0.553735  ,\n",
       "        0.53198135, 0.5338306 , 0.5585312 , 0.5130608 , 0.        ,\n",
       "        0.47649223, 0.5501782 , 0.6516042 , 0.6660129 , 0.45854965,\n",
       "        0.6096212 , 0.52182513, 0.46734756, 0.4909298 , 0.47218093],\n",
       "       [0.42711473, 0.45140627, 0.47860762, 0.49972507, 0.55991507,\n",
       "        0.55217683, 0.5905387 , 0.54947495, 0.5184386 , 0.47649223,\n",
       "        0.        , 0.56414664, 0.62416935, 0.6700711 , 0.47581732,\n",
       "        0.5722275 , 0.52886844, 0.46310037, 0.54032767, 0.49669015],\n",
       "       [0.5302632 , 0.50153947, 0.49133292, 0.5329025 , 0.49170995,\n",
       "        0.5719681 , 0.523261  , 0.5203953 , 0.47898817, 0.5501782 ,\n",
       "        0.56414664, 0.        , 0.5563172 , 0.62372696, 0.50839245,\n",
       "        0.4592114 , 0.6003134 , 0.5280191 , 0.49698293, 0.4531213 ],\n",
       "       [0.4369654 , 0.49468184, 0.5664594 , 0.4289692 , 0.5924829 ,\n",
       "        0.6090245 , 0.59815085, 0.587301  , 0.599035  , 0.6516042 ,\n",
       "        0.62416935, 0.5563172 , 0.        , 0.5898385 , 0.58514667,\n",
       "        0.59144306, 0.6268244 , 0.5811734 , 0.5576342 , 0.5537642 ],\n",
       "       [0.48988515, 0.41014934, 0.45451742, 0.4134637 , 0.6203486 ,\n",
       "        0.56534594, 0.6038351 , 0.64147997, 0.6702113 , 0.6660129 ,\n",
       "        0.6700711 , 0.62372696, 0.5898385 , 0.        , 0.6152335 ,\n",
       "        0.68253136, 0.65361476, 0.6476592 , 0.6080948 , 0.6062832 ],\n",
       "       [0.4793476 , 0.48164308, 0.41348404, 0.36404353, 0.5027349 ,\n",
       "        0.41393805, 0.5012903 , 0.512952  , 0.46837968, 0.45854965,\n",
       "        0.47581732, 0.50839245, 0.58514667, 0.6152335 , 0.        ,\n",
       "        0.5607097 , 0.4739161 , 0.43318695, 0.43246064, 0.45435977],\n",
       "       [0.46850878, 0.4072873 , 0.41546738, 0.56333166, 0.58627975,\n",
       "        0.6028898 , 0.61153626, 0.5727861 , 0.5879519 , 0.6096212 ,\n",
       "        0.5722275 , 0.4592114 , 0.59144306, 0.68253136, 0.5607097 ,\n",
       "        0.        , 0.60506415, 0.5096544 , 0.5857067 , 0.5391014 ],\n",
       "       [0.49318507, 0.49408865, 0.46107185, 0.4891293 , 0.56119007,\n",
       "        0.45997536, 0.49154258, 0.55194545, 0.5510104 , 0.52182513,\n",
       "        0.52886844, 0.6003134 , 0.6268244 , 0.65361476, 0.4739161 ,\n",
       "        0.60506415, 0.        , 0.52202284, 0.43085122, 0.49353954],\n",
       "       [0.47148037, 0.48650277, 0.5207654 , 0.52286017, 0.53573304,\n",
       "        0.5065516 , 0.54967403, 0.54180545, 0.44205922, 0.46734756,\n",
       "        0.46310037, 0.5280191 , 0.5811734 , 0.6476592 , 0.43318695,\n",
       "        0.5096544 , 0.52202284, 0.        , 0.5249303 , 0.4897257 ],\n",
       "       [0.44357598, 0.49031574, 0.47558782, 0.4308087 , 0.49073407,\n",
       "        0.47983488, 0.40926936, 0.49406627, 0.49371785, 0.4909298 ,\n",
       "        0.54032767, 0.49698293, 0.5576342 , 0.6080948 , 0.43246064,\n",
       "        0.5857067 , 0.43085122, 0.5249303 , 0.        , 0.40952846],\n",
       "       [0.48106095, 0.57324815, 0.52048934, 0.46024638, 0.5056597 ,\n",
       "        0.48477733, 0.51492476, 0.4687661 , 0.5034764 , 0.47218093,\n",
       "        0.49669015, 0.4531213 , 0.5537642 , 0.6062832 , 0.45435977,\n",
       "        0.5391014 , 0.49353954, 0.4897257 , 0.40952846, 0.        ]],\n",
       "      dtype=float32)"
      ]
     },
     "execution_count": 9,
     "metadata": {},
     "output_type": "execute_result"
    }
   ],
   "source": [
    "dist_m[-20:,-20:]"
   ]
  },
  {
   "cell_type": "code",
   "execution_count": 10,
   "metadata": {},
   "outputs": [],
   "source": [
    "np.save(\"FFHQ_pairwise_LPIPS_distance_matric-cropface\", dist_m)"
   ]
  },
  {
   "cell_type": "code",
   "execution_count": null,
   "metadata": {},
   "outputs": [],
   "source": []
  }
 ],
 "metadata": {
  "kernelspec": {
   "display_name": "Python 3",
   "language": "python",
   "name": "python3"
  },
  "language_info": {
   "codemirror_mode": {
    "name": "ipython",
    "version": 3
   },
   "file_extension": ".py",
   "mimetype": "text/x-python",
   "name": "python",
   "nbconvert_exporter": "python",
   "pygments_lexer": "ipython3",
   "version": "3.6.10"
  }
 },
 "nbformat": 4,
 "nbformat_minor": 4
}
