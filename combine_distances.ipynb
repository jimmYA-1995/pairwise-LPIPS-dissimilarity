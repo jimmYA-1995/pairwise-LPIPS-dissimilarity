{
 "cells": [
  {
   "cell_type": "code",
   "execution_count": 1,
   "metadata": {},
   "outputs": [],
   "source": [
    "from pathlib import Path\n",
    "import pickle\n",
    "import numpy as np\n",
    "from tqdm import tqdm"
   ]
  },
  {
   "cell_type": "code",
   "execution_count": 2,
   "metadata": {},
   "outputs": [],
   "source": [
    "# filename format: dist-{start_block}-{end_block}.pkl\n",
    "PKL_DIR = Path('dists-ssim-cropface')\n",
    "N_FEAT = 70000"
   ]
  },
  {
   "cell_type": "code",
   "execution_count": 3,
   "metadata": {},
   "outputs": [],
   "source": [
    "pkl_paths = list(PKL_DIR.glob('*.pkl'))\n",
    "pkl_paths.sort(key=lambda p: int(p.stem.split('-')[1])) # sort by start block"
   ]
  },
  {
   "cell_type": "code",
   "execution_count": 4,
   "metadata": {},
   "outputs": [
    {
     "data": {
      "text/plain": [
       "[PosixPath('dists-ssim-cropface/dist-0-23656.pkl'),\n",
       " PosixPath('dists-ssim-cropface/dist-23656-47312.pkl'),\n",
       " PosixPath('dists-ssim-cropface/dist-47312-70968.pkl'),\n",
       " PosixPath('dists-ssim-cropface/dist-70968-94624.pkl'),\n",
       " PosixPath('dists-ssim-cropface/dist-94624-118280.pkl'),\n",
       " PosixPath('dists-ssim-cropface/dist-118280-141936.pkl'),\n",
       " PosixPath('dists-ssim-cropface/dist-141936-165592.pkl'),\n",
       " PosixPath('dists-ssim-cropface/dist-165592-189248.pkl'),\n",
       " PosixPath('dists-ssim-cropface/dist-189248-212904.pkl'),\n",
       " PosixPath('dists-ssim-cropface/dist-212904-236560.pkl'),\n",
       " PosixPath('dists-ssim-cropface/dist-236560-260216.pkl'),\n",
       " PosixPath('dists-ssim-cropface/dist-260216-283872.pkl'),\n",
       " PosixPath('dists-ssim-cropface/dist-283872-307528.pkl'),\n",
       " PosixPath('dists-ssim-cropface/dist-307528-331184.pkl'),\n",
       " PosixPath('dists-ssim-cropface/dist-331184-354840.pkl'),\n",
       " PosixPath('dists-ssim-cropface/dist-354840-378496.pkl'),\n",
       " PosixPath('dists-ssim-cropface/dist-378496-402152.pkl'),\n",
       " PosixPath('dists-ssim-cropface/dist-402152-425808.pkl'),\n",
       " PosixPath('dists-ssim-cropface/dist-425808-449464.pkl'),\n",
       " PosixPath('dists-ssim-cropface/dist-449464-473120.pkl'),\n",
       " PosixPath('dists-ssim-cropface/dist-473120-496776.pkl'),\n",
       " PosixPath('dists-ssim-cropface/dist-496776-520432.pkl'),\n",
       " PosixPath('dists-ssim-cropface/dist-520432-544088.pkl'),\n",
       " PosixPath('dists-ssim-cropface/dist-544088-567744.pkl'),\n",
       " PosixPath('dists-ssim-cropface/dist-567744-591400.pkl'),\n",
       " PosixPath('dists-ssim-cropface/dist-591400-615056.pkl'),\n",
       " PosixPath('dists-ssim-cropface/dist-615056-638712.pkl'),\n",
       " PosixPath('dists-ssim-cropface/dist-638712-662368.pkl'),\n",
       " PosixPath('dists-ssim-cropface/dist-662368-686024.pkl'),\n",
       " PosixPath('dists-ssim-cropface/dist-686024-709680.pkl'),\n",
       " PosixPath('dists-ssim-cropface/dist-709680-733336.pkl'),\n",
       " PosixPath('dists-ssim-cropface/dist-733336-756992.pkl'),\n",
       " PosixPath('dists-ssim-cropface/dist-756992-780648.pkl'),\n",
       " PosixPath('dists-ssim-cropface/dist-780648-804304.pkl'),\n",
       " PosixPath('dists-ssim-cropface/dist-804304-827960.pkl'),\n",
       " PosixPath('dists-ssim-cropface/dist-827960-851616.pkl'),\n",
       " PosixPath('dists-ssim-cropface/dist-851616-875272.pkl'),\n",
       " PosixPath('dists-ssim-cropface/dist-875272-898928.pkl'),\n",
       " PosixPath('dists-ssim-cropface/dist-898928-922584.pkl'),\n",
       " PosixPath('dists-ssim-cropface/dist-922584-946240.pkl'),\n",
       " PosixPath('dists-ssim-cropface/dist-946240-969896.pkl'),\n",
       " PosixPath('dists-ssim-cropface/dist-969896-993552.pkl'),\n",
       " PosixPath('dists-ssim-cropface/dist-993552-1017208.pkl'),\n",
       " PosixPath('dists-ssim-cropface/dist-1017208-1040864.pkl'),\n",
       " PosixPath('dists-ssim-cropface/dist-1040864-1064520.pkl'),\n",
       " PosixPath('dists-ssim-cropface/dist-1064520-1088176.pkl'),\n",
       " PosixPath('dists-ssim-cropface/dist-1088176-1111832.pkl'),\n",
       " PosixPath('dists-ssim-cropface/dist-1111832-1135488.pkl'),\n",
       " PosixPath('dists-ssim-cropface/dist-1135488-1159144.pkl'),\n",
       " PosixPath('dists-ssim-cropface/dist-1159144-1182800.pkl'),\n",
       " PosixPath('dists-ssim-cropface/dist-1182800-1206456.pkl'),\n",
       " PosixPath('dists-ssim-cropface/dist-1206456-1230112.pkl'),\n",
       " PosixPath('dists-ssim-cropface/dist-1230112-1253768.pkl'),\n",
       " PosixPath('dists-ssim-cropface/dist-1253768-1277424.pkl'),\n",
       " PosixPath('dists-ssim-cropface/dist-1277424-1301080.pkl'),\n",
       " PosixPath('dists-ssim-cropface/dist-1301080-1324736.pkl'),\n",
       " PosixPath('dists-ssim-cropface/dist-1324736-1348392.pkl'),\n",
       " PosixPath('dists-ssim-cropface/dist-1348392-1372048.pkl'),\n",
       " PosixPath('dists-ssim-cropface/dist-1372048-1395704.pkl'),\n",
       " PosixPath('dists-ssim-cropface/dist-1395704-1419360.pkl'),\n",
       " PosixPath('dists-ssim-cropface/dist-1419360-1443016.pkl'),\n",
       " PosixPath('dists-ssim-cropface/dist-1443016-1466672.pkl'),\n",
       " PosixPath('dists-ssim-cropface/dist-1466672-1490328.pkl'),\n",
       " PosixPath('dists-ssim-cropface/dist-1490328-1513984.pkl'),\n",
       " PosixPath('dists-ssim-cropface/dist-1513984-1537640.pkl'),\n",
       " PosixPath('dists-ssim-cropface/dist-1537640-1561296.pkl'),\n",
       " PosixPath('dists-ssim-cropface/dist-1561296-1584952.pkl'),\n",
       " PosixPath('dists-ssim-cropface/dist-1584952-1608608.pkl'),\n",
       " PosixPath('dists-ssim-cropface/dist-1608608-1632264.pkl'),\n",
       " PosixPath('dists-ssim-cropface/dist-1632264-1655920.pkl'),\n",
       " PosixPath('dists-ssim-cropface/dist-1655920-1679576.pkl'),\n",
       " PosixPath('dists-ssim-cropface/dist-1679576-1703232.pkl'),\n",
       " PosixPath('dists-ssim-cropface/dist-1703232-1726888.pkl'),\n",
       " PosixPath('dists-ssim-cropface/dist-1726888-1750544.pkl'),\n",
       " PosixPath('dists-ssim-cropface/dist-1750544-1774200.pkl'),\n",
       " PosixPath('dists-ssim-cropface/dist-1774200-1797856.pkl'),\n",
       " PosixPath('dists-ssim-cropface/dist-1797856-1821512.pkl'),\n",
       " PosixPath('dists-ssim-cropface/dist-1821512-1845168.pkl'),\n",
       " PosixPath('dists-ssim-cropface/dist-1845168-1868824.pkl'),\n",
       " PosixPath('dists-ssim-cropface/dist-1868824-1892480.pkl'),\n",
       " PosixPath('dists-ssim-cropface/dist-1892480-1892485.pkl')]"
      ]
     },
     "execution_count": 4,
     "metadata": {},
     "output_type": "execute_result"
    }
   ],
   "source": [
    "pkl_paths"
   ]
  },
  {
   "cell_type": "code",
   "execution_count": 5,
   "metadata": {},
   "outputs": [],
   "source": [
    "# 66780 - 70119"
   ]
  },
  {
   "cell_type": "code",
   "execution_count": 6,
   "metadata": {},
   "outputs": [],
   "source": [
    "dist_m = np.empty((N_FEAT, N_FEAT), dtype=np.float32)"
   ]
  },
  {
   "cell_type": "code",
   "execution_count": 7,
   "metadata": {},
   "outputs": [
    {
     "name": "stderr",
     "output_type": "stream",
     "text": [
      "  0%|          | 0/81 [00:00<?, ?it/s]"
     ]
    },
    {
     "name": "stdout",
     "output_type": "stream",
     "text": [
      "22855\r"
     ]
    },
    {
     "name": "stderr",
     "output_type": "stream",
     "text": [
      "  1%|          | 1/81 [00:02<02:46,  2.09s/it]"
     ]
    },
    {
     "name": "stdout",
     "output_type": "stream",
     "text": [
      "46590\r"
     ]
    },
    {
     "name": "stderr",
     "output_type": "stream",
     "text": [
      "  2%|▏         | 2/81 [00:04<02:49,  2.14s/it]"
     ]
    },
    {
     "name": "stdout",
     "output_type": "stream",
     "text": [
      "68621\r"
     ]
    },
    {
     "name": "stderr",
     "output_type": "stream",
     "text": [
      "  4%|▎         | 3/81 [00:06<02:47,  2.15s/it]"
     ]
    },
    {
     "name": "stdout",
     "output_type": "stream",
     "text": [
      "94204\r"
     ]
    },
    {
     "name": "stderr",
     "output_type": "stream",
     "text": [
      "  5%|▍         | 4/81 [00:08<02:46,  2.17s/it]"
     ]
    },
    {
     "name": "stdout",
     "output_type": "stream",
     "text": [
      "117541\r"
     ]
    },
    {
     "name": "stderr",
     "output_type": "stream",
     "text": [
      "  6%|▌         | 5/81 [00:10<02:46,  2.19s/it]"
     ]
    },
    {
     "name": "stdout",
     "output_type": "stream",
     "text": [
      "140191\r"
     ]
    },
    {
     "name": "stderr",
     "output_type": "stream",
     "text": [
      "  7%|▋         | 6/81 [00:13<02:42,  2.17s/it]"
     ]
    },
    {
     "name": "stdout",
     "output_type": "stream",
     "text": [
      "165390\r"
     ]
    },
    {
     "name": "stderr",
     "output_type": "stream",
     "text": [
      "  9%|▊         | 7/81 [00:15<02:41,  2.18s/it]"
     ]
    },
    {
     "name": "stdout",
     "output_type": "stream",
     "text": [
      "186949\r"
     ]
    },
    {
     "name": "stderr",
     "output_type": "stream",
     "text": [
      " 10%|▉         | 8/81 [00:17<02:38,  2.17s/it]"
     ]
    },
    {
     "name": "stdout",
     "output_type": "stream",
     "text": [
      "212479\r"
     ]
    },
    {
     "name": "stderr",
     "output_type": "stream",
     "text": [
      " 11%|█         | 9/81 [00:19<02:32,  2.12s/it]"
     ]
    },
    {
     "name": "stdout",
     "output_type": "stream",
     "text": [
      "234400\r"
     ]
    },
    {
     "name": "stderr",
     "output_type": "stream",
     "text": [
      " 12%|█▏        | 10/81 [00:21<02:26,  2.06s/it]"
     ]
    },
    {
     "name": "stdout",
     "output_type": "stream",
     "text": [
      "257754\r"
     ]
    },
    {
     "name": "stderr",
     "output_type": "stream",
     "text": [
      " 14%|█▎        | 11/81 [00:23<02:21,  2.03s/it]"
     ]
    },
    {
     "name": "stdout",
     "output_type": "stream",
     "text": [
      "283622\r"
     ]
    },
    {
     "name": "stderr",
     "output_type": "stream",
     "text": [
      " 15%|█▍        | 12/81 [00:25<02:19,  2.02s/it]"
     ]
    },
    {
     "name": "stdout",
     "output_type": "stream",
     "text": [
      "307077\r"
     ]
    },
    {
     "name": "stderr",
     "output_type": "stream",
     "text": [
      " 16%|█▌        | 13/81 [00:27<02:20,  2.07s/it]"
     ]
    },
    {
     "name": "stdout",
     "output_type": "stream",
     "text": [
      "330863\r"
     ]
    },
    {
     "name": "stderr",
     "output_type": "stream",
     "text": [
      " 17%|█▋        | 14/81 [00:29<02:17,  2.05s/it]"
     ]
    },
    {
     "name": "stdout",
     "output_type": "stream",
     "text": [
      "352504\r"
     ]
    },
    {
     "name": "stderr",
     "output_type": "stream",
     "text": [
      " 19%|█▊        | 15/81 [00:31<02:13,  2.03s/it]"
     ]
    },
    {
     "name": "stdout",
     "output_type": "stream",
     "text": [
      "377724\r"
     ]
    },
    {
     "name": "stderr",
     "output_type": "stream",
     "text": [
      " 20%|█▉        | 16/81 [00:33<02:11,  2.03s/it]"
     ]
    },
    {
     "name": "stdout",
     "output_type": "stream",
     "text": [
      "400094\r"
     ]
    },
    {
     "name": "stderr",
     "output_type": "stream",
     "text": [
      " 21%|██        | 17/81 [00:35<02:12,  2.06s/it]"
     ]
    },
    {
     "name": "stdout",
     "output_type": "stream",
     "text": [
      "424827"
     ]
    },
    {
     "name": "stderr",
     "output_type": "stream",
     "text": [
      " 22%|██▏       | 18/81 [00:37<02:10,  2.07s/it]"
     ]
    },
    {
     "name": "stdout",
     "output_type": "stream",
     "text": [
      "446994\r"
     ]
    },
    {
     "name": "stderr",
     "output_type": "stream",
     "text": [
      " 23%|██▎       | 19/81 [00:39<02:06,  2.04s/it]"
     ]
    },
    {
     "name": "stdout",
     "output_type": "stream",
     "text": [
      "472960\r"
     ]
    },
    {
     "name": "stderr",
     "output_type": "stream",
     "text": [
      " 25%|██▍       | 20/81 [00:41<02:03,  2.03s/it]"
     ]
    },
    {
     "name": "stdout",
     "output_type": "stream",
     "text": [
      "496464\r"
     ]
    },
    {
     "name": "stderr",
     "output_type": "stream",
     "text": [
      " 26%|██▌       | 21/81 [00:43<02:01,  2.03s/it]"
     ]
    },
    {
     "name": "stdout",
     "output_type": "stream",
     "text": [
      "519013\r"
     ]
    },
    {
     "name": "stderr",
     "output_type": "stream",
     "text": [
      " 27%|██▋       | 22/81 [00:45<02:00,  2.05s/it]"
     ]
    },
    {
     "name": "stdout",
     "output_type": "stream",
     "text": [
      "542467\r"
     ]
    },
    {
     "name": "stderr",
     "output_type": "stream",
     "text": [
      " 28%|██▊       | 23/81 [00:47<02:00,  2.07s/it]"
     ]
    },
    {
     "name": "stdout",
     "output_type": "stream",
     "text": [
      "567278\r"
     ]
    },
    {
     "name": "stderr",
     "output_type": "stream",
     "text": [
      " 30%|██▉       | 24/81 [00:49<01:57,  2.06s/it]"
     ]
    },
    {
     "name": "stdout",
     "output_type": "stream",
     "text": [
      "590691\r"
     ]
    },
    {
     "name": "stderr",
     "output_type": "stream",
     "text": [
      " 31%|███       | 25/81 [00:52<01:54,  2.05s/it]"
     ]
    },
    {
     "name": "stdout",
     "output_type": "stream",
     "text": [
      "614785\r"
     ]
    },
    {
     "name": "stderr",
     "output_type": "stream",
     "text": [
      " 32%|███▏      | 26/81 [00:54<01:52,  2.04s/it]"
     ]
    },
    {
     "name": "stdout",
     "output_type": "stream",
     "text": [
      "636212\r"
     ]
    },
    {
     "name": "stderr",
     "output_type": "stream",
     "text": [
      " 33%|███▎      | 27/81 [00:56<01:48,  2.02s/it]"
     ]
    },
    {
     "name": "stdout",
     "output_type": "stream",
     "text": [
      "662329\r"
     ]
    },
    {
     "name": "stderr",
     "output_type": "stream",
     "text": [
      " 35%|███▍      | 28/81 [00:57<01:45,  2.00s/it]"
     ]
    },
    {
     "name": "stdout",
     "output_type": "stream",
     "text": [
      "685355\r"
     ]
    },
    {
     "name": "stderr",
     "output_type": "stream",
     "text": [
      " 36%|███▌      | 29/81 [01:00<01:44,  2.01s/it]"
     ]
    },
    {
     "name": "stdout",
     "output_type": "stream",
     "text": [
      "709151\r"
     ]
    },
    {
     "name": "stderr",
     "output_type": "stream",
     "text": [
      " 37%|███▋      | 30/81 [01:02<01:42,  2.02s/it]"
     ]
    },
    {
     "name": "stdout",
     "output_type": "stream",
     "text": [
      "730985\r"
     ]
    },
    {
     "name": "stderr",
     "output_type": "stream",
     "text": [
      " 38%|███▊      | 31/81 [01:03<01:39,  2.00s/it]"
     ]
    },
    {
     "name": "stdout",
     "output_type": "stream",
     "text": [
      "754591\r"
     ]
    },
    {
     "name": "stderr",
     "output_type": "stream",
     "text": [
      " 40%|███▉      | 32/81 [01:05<01:37,  1.99s/it]"
     ]
    },
    {
     "name": "stdout",
     "output_type": "stream",
     "text": [
      "780150\r"
     ]
    },
    {
     "name": "stderr",
     "output_type": "stream",
     "text": [
      " 41%|████      | 33/81 [01:07<01:36,  2.00s/it]"
     ]
    },
    {
     "name": "stdout",
     "output_type": "stream",
     "text": [
      "803712\r"
     ]
    },
    {
     "name": "stderr",
     "output_type": "stream",
     "text": [
      " 42%|████▏     | 34/81 [01:10<01:34,  2.01s/it]"
     ]
    },
    {
     "name": "stdout",
     "output_type": "stream",
     "text": [
      "825931\r"
     ]
    },
    {
     "name": "stderr",
     "output_type": "stream",
     "text": [
      " 43%|████▎     | 35/81 [01:12<01:37,  2.11s/it]"
     ]
    },
    {
     "name": "stdout",
     "output_type": "stream",
     "text": [
      "849628\r"
     ]
    },
    {
     "name": "stderr",
     "output_type": "stream",
     "text": [
      " 44%|████▍     | 36/81 [01:14<01:35,  2.12s/it]"
     ]
    },
    {
     "name": "stdout",
     "output_type": "stream",
     "text": [
      "874259\r"
     ]
    },
    {
     "name": "stderr",
     "output_type": "stream",
     "text": [
      " 46%|████▌     | 37/81 [01:16<01:32,  2.11s/it]"
     ]
    },
    {
     "name": "stdout",
     "output_type": "stream",
     "text": [
      "897835\r"
     ]
    },
    {
     "name": "stderr",
     "output_type": "stream",
     "text": [
      " 47%|████▋     | 38/81 [01:18<01:29,  2.09s/it]"
     ]
    },
    {
     "name": "stdout",
     "output_type": "stream",
     "text": [
      "920534\r"
     ]
    },
    {
     "name": "stderr",
     "output_type": "stream",
     "text": [
      " 48%|████▊     | 39/81 [01:20<01:28,  2.11s/it]"
     ]
    },
    {
     "name": "stdout",
     "output_type": "stream",
     "text": [
      "945730\r"
     ]
    },
    {
     "name": "stderr",
     "output_type": "stream",
     "text": [
      " 49%|████▉     | 40/81 [01:22<01:25,  2.09s/it]"
     ]
    },
    {
     "name": "stdout",
     "output_type": "stream",
     "text": [
      "969495\r"
     ]
    },
    {
     "name": "stderr",
     "output_type": "stream",
     "text": [
      " 51%|█████     | 41/81 [01:24<01:22,  2.06s/it]"
     ]
    },
    {
     "name": "stdout",
     "output_type": "stream",
     "text": [
      "992083\r"
     ]
    },
    {
     "name": "stderr",
     "output_type": "stream",
     "text": [
      " 52%|█████▏    | 42/81 [01:26<01:21,  2.09s/it]"
     ]
    },
    {
     "name": "stdout",
     "output_type": "stream",
     "text": [
      "1014663\r"
     ]
    },
    {
     "name": "stderr",
     "output_type": "stream",
     "text": [
      " 53%|█████▎    | 43/81 [01:28<01:18,  2.06s/it]"
     ]
    },
    {
     "name": "stdout",
     "output_type": "stream",
     "text": [
      "1040834\r"
     ]
    },
    {
     "name": "stderr",
     "output_type": "stream",
     "text": [
      " 54%|█████▍    | 44/81 [01:30<01:15,  2.04s/it]"
     ]
    },
    {
     "name": "stdout",
     "output_type": "stream",
     "text": [
      "1063028\r"
     ]
    },
    {
     "name": "stderr",
     "output_type": "stream",
     "text": [
      " 56%|█████▌    | 45/81 [01:33<01:14,  2.06s/it]"
     ]
    },
    {
     "name": "stdout",
     "output_type": "stream",
     "text": [
      "1087554\r"
     ]
    },
    {
     "name": "stderr",
     "output_type": "stream",
     "text": [
      " 57%|█████▋    | 46/81 [01:35<01:11,  2.05s/it]"
     ]
    },
    {
     "name": "stdout",
     "output_type": "stream",
     "text": [
      "1111723\r"
     ]
    },
    {
     "name": "stderr",
     "output_type": "stream",
     "text": [
      " 58%|█████▊    | 47/81 [01:37<01:09,  2.03s/it]"
     ]
    },
    {
     "name": "stdout",
     "output_type": "stream",
     "text": [
      "1133340\r"
     ]
    },
    {
     "name": "stderr",
     "output_type": "stream",
     "text": [
      " 59%|█████▉    | 48/81 [01:39<01:06,  2.01s/it]"
     ]
    },
    {
     "name": "stdout",
     "output_type": "stream",
     "text": [
      "1158782\r"
     ]
    },
    {
     "name": "stderr",
     "output_type": "stream",
     "text": [
      " 60%|██████    | 49/81 [01:41<01:04,  2.01s/it]"
     ]
    },
    {
     "name": "stdout",
     "output_type": "stream",
     "text": [
      "1182036\r"
     ]
    },
    {
     "name": "stderr",
     "output_type": "stream",
     "text": [
      " 62%|██████▏   | 50/81 [01:43<01:02,  2.02s/it]"
     ]
    },
    {
     "name": "stdout",
     "output_type": "stream",
     "text": [
      "1206076\r"
     ]
    },
    {
     "name": "stderr",
     "output_type": "stream",
     "text": [
      " 63%|██████▎   | 51/81 [01:45<01:00,  2.02s/it]"
     ]
    },
    {
     "name": "stdout",
     "output_type": "stream",
     "text": [
      "1229990\r"
     ]
    },
    {
     "name": "stderr",
     "output_type": "stream",
     "text": [
      " 64%|██████▍   | 52/81 [01:47<00:58,  2.01s/it]"
     ]
    },
    {
     "name": "stdout",
     "output_type": "stream",
     "text": [
      "1251574\r"
     ]
    },
    {
     "name": "stderr",
     "output_type": "stream",
     "text": [
      " 65%|██████▌   | 53/81 [01:49<00:55,  2.00s/it]"
     ]
    },
    {
     "name": "stdout",
     "output_type": "stream",
     "text": [
      "1276934\r"
     ]
    },
    {
     "name": "stderr",
     "output_type": "stream",
     "text": [
      " 67%|██████▋   | 54/81 [01:51<00:54,  2.00s/it]"
     ]
    },
    {
     "name": "stdout",
     "output_type": "stream",
     "text": [
      "1300522\r"
     ]
    },
    {
     "name": "stderr",
     "output_type": "stream",
     "text": [
      " 68%|██████▊   | 55/81 [01:53<00:52,  2.01s/it]"
     ]
    },
    {
     "name": "stdout",
     "output_type": "stream",
     "text": [
      "1322244\r"
     ]
    },
    {
     "name": "stderr",
     "output_type": "stream",
     "text": [
      " 69%|██████▉   | 56/81 [01:55<00:49,  2.00s/it]"
     ]
    },
    {
     "name": "stdout",
     "output_type": "stream",
     "text": [
      "1345852\r"
     ]
    },
    {
     "name": "stderr",
     "output_type": "stream",
     "text": [
      " 70%|███████   | 57/81 [01:57<00:47,  1.99s/it]"
     ]
    },
    {
     "name": "stdout",
     "output_type": "stream",
     "text": [
      "1371447\r"
     ]
    },
    {
     "name": "stderr",
     "output_type": "stream",
     "text": [
      " 72%|███████▏  | 58/81 [01:59<00:45,  1.99s/it]"
     ]
    },
    {
     "name": "stdout",
     "output_type": "stream",
     "text": [
      "1395080\r"
     ]
    },
    {
     "name": "stderr",
     "output_type": "stream",
     "text": [
      " 73%|███████▎  | 59/81 [02:01<00:44,  2.00s/it]"
     ]
    },
    {
     "name": "stdout",
     "output_type": "stream",
     "text": [
      "1419112\r"
     ]
    },
    {
     "name": "stderr",
     "output_type": "stream",
     "text": [
      " 74%|███████▍  | 60/81 [02:03<00:41,  2.00s/it]"
     ]
    },
    {
     "name": "stdout",
     "output_type": "stream",
     "text": [
      "1440779\r"
     ]
    },
    {
     "name": "stderr",
     "output_type": "stream",
     "text": [
      " 75%|███████▌  | 61/81 [02:05<00:39,  1.99s/it]"
     ]
    },
    {
     "name": "stdout",
     "output_type": "stream",
     "text": [
      "1466194\r"
     ]
    },
    {
     "name": "stderr",
     "output_type": "stream",
     "text": [
      " 77%|███████▋  | 62/81 [02:06<00:37,  1.99s/it]"
     ]
    },
    {
     "name": "stdout",
     "output_type": "stream",
     "text": [
      "1489399\r"
     ]
    },
    {
     "name": "stderr",
     "output_type": "stream",
     "text": [
      " 78%|███████▊  | 63/81 [02:09<00:36,  2.01s/it]"
     ]
    },
    {
     "name": "stdout",
     "output_type": "stream",
     "text": [
      "1511807\r"
     ]
    },
    {
     "name": "stderr",
     "output_type": "stream",
     "text": [
      " 79%|███████▉  | 64/81 [02:11<00:34,  2.05s/it]"
     ]
    },
    {
     "name": "stdout",
     "output_type": "stream",
     "text": [
      "1535655\r"
     ]
    },
    {
     "name": "stderr",
     "output_type": "stream",
     "text": [
      " 80%|████████  | 65/81 [02:13<00:33,  2.08s/it]"
     ]
    },
    {
     "name": "stdout",
     "output_type": "stream",
     "text": [
      "1560229\r"
     ]
    },
    {
     "name": "stderr",
     "output_type": "stream",
     "text": [
      " 81%|████████▏ | 66/81 [02:15<00:32,  2.14s/it]"
     ]
    },
    {
     "name": "stdout",
     "output_type": "stream",
     "text": [
      "1582959\r"
     ]
    },
    {
     "name": "stderr",
     "output_type": "stream",
     "text": [
      " 83%|████████▎ | 67/81 [02:17<00:29,  2.14s/it]"
     ]
    },
    {
     "name": "stdout",
     "output_type": "stream",
     "text": [
      "1608604\r"
     ]
    },
    {
     "name": "stderr",
     "output_type": "stream",
     "text": [
      " 84%|████████▍ | 68/81 [02:19<00:27,  2.09s/it]"
     ]
    },
    {
     "name": "stdout",
     "output_type": "stream",
     "text": [
      "1630009\r"
     ]
    },
    {
     "name": "stderr",
     "output_type": "stream",
     "text": [
      " 85%|████████▌ | 69/81 [02:21<00:24,  2.06s/it]"
     ]
    },
    {
     "name": "stdout",
     "output_type": "stream",
     "text": [
      "1654366\r"
     ]
    },
    {
     "name": "stderr",
     "output_type": "stream",
     "text": [
      " 86%|████████▋ | 70/81 [02:23<00:22,  2.07s/it]"
     ]
    },
    {
     "name": "stdout",
     "output_type": "stream",
     "text": [
      "1678128\r"
     ]
    },
    {
     "name": "stderr",
     "output_type": "stream",
     "text": [
      " 88%|████████▊ | 71/81 [02:25<00:20,  2.06s/it]"
     ]
    },
    {
     "name": "stdout",
     "output_type": "stream",
     "text": [
      "1701094\r"
     ]
    },
    {
     "name": "stderr",
     "output_type": "stream",
     "text": [
      " 89%|████████▉ | 72/81 [02:27<00:18,  2.09s/it]"
     ]
    },
    {
     "name": "stdout",
     "output_type": "stream",
     "text": [
      "1726116\r"
     ]
    },
    {
     "name": "stderr",
     "output_type": "stream",
     "text": [
      " 90%|█████████ | 73/81 [02:30<00:16,  2.07s/it]"
     ]
    },
    {
     "name": "stdout",
     "output_type": "stream",
     "text": [
      "1749628\r"
     ]
    },
    {
     "name": "stderr",
     "output_type": "stream",
     "text": [
      " 91%|█████████▏| 74/81 [02:32<00:14,  2.07s/it]"
     ]
    },
    {
     "name": "stdout",
     "output_type": "stream",
     "text": [
      "1773380\r"
     ]
    },
    {
     "name": "stderr",
     "output_type": "stream",
     "text": [
      " 93%|█████████▎| 75/81 [02:34<00:12,  2.06s/it]"
     ]
    },
    {
     "name": "stdout",
     "output_type": "stream",
     "text": [
      "1797444\r"
     ]
    },
    {
     "name": "stderr",
     "output_type": "stream",
     "text": [
      " 94%|█████████▍| 76/81 [02:36<00:10,  2.08s/it]"
     ]
    },
    {
     "name": "stdout",
     "output_type": "stream",
     "text": [
      "1821334\r"
     ]
    },
    {
     "name": "stderr",
     "output_type": "stream",
     "text": [
      " 95%|█████████▌| 77/81 [02:38<00:08,  2.06s/it]"
     ]
    },
    {
     "name": "stdout",
     "output_type": "stream",
     "text": [
      "1844319\r"
     ]
    },
    {
     "name": "stderr",
     "output_type": "stream",
     "text": [
      " 96%|█████████▋| 78/81 [02:40<00:06,  2.06s/it]"
     ]
    },
    {
     "name": "stdout",
     "output_type": "stream",
     "text": [
      "1867265\r"
     ]
    },
    {
     "name": "stderr",
     "output_type": "stream",
     "text": [
      " 98%|█████████▊| 79/81 [02:42<00:04,  2.08s/it]"
     ]
    },
    {
     "name": "stdout",
     "output_type": "stream",
     "text": [
      "1891820\r"
     ]
    },
    {
     "name": "stderr",
     "output_type": "stream",
     "text": [
      "100%|██████████| 81/81 [02:44<00:00,  2.03s/it]"
     ]
    },
    {
     "name": "stdout",
     "output_type": "stream",
     "text": [
      "1892484\r"
     ]
    },
    {
     "name": "stderr",
     "output_type": "stream",
     "text": [
      "\n"
     ]
    }
   ],
   "source": [
    "ri, ci = 0, 0\n",
    "b = 36\n",
    "n_row = 0\n",
    "for pkl in tqdm(pkl_paths):\n",
    "    dists = pickle.loads(pkl.read_bytes())\n",
    "    for dist in dists:\n",
    "        print(dist['idx'], end=\"\\r\")\n",
    "        diff = dist['diff']\n",
    "        row, col = diff.shape\n",
    "        \n",
    "        dist_m[ri:ri+row, ci:ci+col] = diff\n",
    "        ci += col\n",
    "        \n",
    "        if ci >= N_FEAT:\n",
    "            n_row += 1\n",
    "            ci = n_row * b\n",
    "            ri += row\n",
    "            # print(ri, ci)\n"
   ]
  },
  {
   "cell_type": "markdown",
   "metadata": {},
   "source": [
    "## Mirror (needs more than 60GB memory)"
   ]
  },
  {
   "cell_type": "code",
   "execution_count": 8,
   "metadata": {},
   "outputs": [
    {
     "name": "stdout",
     "output_type": "stream",
     "text": [
      "CPU times: user 1min 20s, sys: 24.2 s, total: 1min 44s\n",
      "Wall time: 1min 44s\n"
     ]
    }
   ],
   "source": [
    "%%time\n",
    "i,j = np.indices((N_FEAT,N_FEAT))\n",
    "rs, cs = np.where(i>j)\n",
    "dist_m[rs, cs] = dist_m[cs, rs]"
   ]
  },
  {
   "cell_type": "code",
   "execution_count": 9,
   "metadata": {},
   "outputs": [
    {
     "name": "stdout",
     "output_type": "stream",
     "text": [
      "69999 69999 1.0\n"
     ]
    }
   ],
   "source": [
    "cnt = 0\n",
    "flag = False\n",
    "for i in range(N_FEAT-1, 0, -1):\n",
    "    for j in range(N_FEAT-1, 0, -1):\n",
    "        if j>=i :\n",
    "            if dist_m[i,j] == 0:\n",
    "                cnt += 1\n",
    "            else:\n",
    "                print(i, j, dist_m[i, j])\n",
    "                flag = True\n",
    "        \n",
    "        if flag:\n",
    "            break\n",
    "    if flag:\n",
    "            break"
   ]
  },
  {
   "cell_type": "code",
   "execution_count": 16,
   "metadata": {},
   "outputs": [
    {
     "data": {
      "text/plain": [
       "136"
      ]
     },
     "execution_count": 16,
     "metadata": {},
     "output_type": "execute_result"
    }
   ],
   "source": [
    "cnt"
   ]
  },
  {
   "cell_type": "raw",
   "metadata": {},
   "source": [
    "%%time\n",
    "CPU times: user 12min 57s, sys: 21.4 s, total: 13min 18s\n",
    "Wall time: 13min 19s\n",
    "\n",
    "for i in range(N_FEAT):\n",
    "    for j in range(i):\n",
    "        dist_m[i,j] = dist_m[j,i]"
   ]
  },
  {
   "cell_type": "markdown",
   "metadata": {},
   "source": [
    "## manually check"
   ]
  },
  {
   "cell_type": "code",
   "execution_count": 10,
   "metadata": {},
   "outputs": [
    {
     "data": {
      "text/plain": [
       "array([[1.        , 0.41549867, 0.44325608, 0.42381492, 0.48515365,\n",
       "        0.4242442 , 0.4192595 , 0.28124917, 0.46850663, 0.48193622,\n",
       "        0.47000894, 0.46943352, 0.4901576 , 0.51162523, 0.37357253,\n",
       "        0.41340217, 0.4364916 , 0.49708277, 0.49233168, 0.4327004 ],\n",
       "       [0.41549867, 1.        , 0.3552448 , 0.3539622 , 0.35125303,\n",
       "        0.3404631 , 0.3004095 , 0.21027754, 0.32333592, 0.3759521 ,\n",
       "        0.34823424, 0.3494227 , 0.37858582, 0.38039753, 0.3038985 ,\n",
       "        0.30282634, 0.3335018 , 0.37797034, 0.3665682 , 0.34682083],\n",
       "       [0.44325608, 0.3552448 , 1.        , 0.502999  , 0.47823292,\n",
       "        0.41839513, 0.38725168, 0.24913917, 0.43767214, 0.43252894,\n",
       "        0.36921993, 0.4395637 , 0.4288987 , 0.4751516 , 0.31347972,\n",
       "        0.36407   , 0.4032887 , 0.38398117, 0.47105503, 0.41609654],\n",
       "       [0.42381492, 0.3539622 , 0.502999  , 1.        , 0.443288  ,\n",
       "        0.3678882 , 0.3823691 , 0.24015109, 0.43728504, 0.41015643,\n",
       "        0.3537935 , 0.44237003, 0.4462458 , 0.45121676, 0.30306602,\n",
       "        0.36466956, 0.38482165, 0.38093024, 0.48043007, 0.37548822],\n",
       "       [0.48515365, 0.35125303, 0.47823292, 0.443288  , 1.        ,\n",
       "        0.37191513, 0.37923062, 0.24327286, 0.4147094 , 0.41765583,\n",
       "        0.36448926, 0.43494615, 0.44521272, 0.45845777, 0.31884927,\n",
       "        0.35891747, 0.3997268 , 0.37723982, 0.4906593 , 0.39605716],\n",
       "       [0.4242442 , 0.3404631 , 0.41839513, 0.3678882 , 0.37191513,\n",
       "        1.        , 0.35533184, 0.30632102, 0.43674   , 0.44790396,\n",
       "        0.4113837 , 0.4275545 , 0.36074424, 0.44753355, 0.3105448 ,\n",
       "        0.37459636, 0.43849942, 0.42182636, 0.4189586 , 0.38696525],\n",
       "       [0.4192595 , 0.3004095 , 0.38725168, 0.3823691 , 0.37923062,\n",
       "        0.35533184, 1.        , 0.2840675 , 0.40315503, 0.4189172 ,\n",
       "        0.38053995, 0.41604015, 0.3821386 , 0.4805169 , 0.29330623,\n",
       "        0.39766142, 0.37342468, 0.42029434, 0.44507694, 0.35725874],\n",
       "       [0.28124917, 0.21027754, 0.24913917, 0.24015109, 0.24327286,\n",
       "        0.30632102, 0.2840675 , 1.        , 0.3110565 , 0.3038906 ,\n",
       "        0.3671186 , 0.3538606 , 0.3018723 , 0.30884695, 0.24421075,\n",
       "        0.39826298, 0.2811123 , 0.36700213, 0.26614028, 0.2636825 ],\n",
       "       [0.46850663, 0.32333592, 0.43767214, 0.43728504, 0.4147094 ,\n",
       "        0.43674   , 0.40315503, 0.3110565 , 1.        , 0.45645463,\n",
       "        0.45273954, 0.45858184, 0.40709102, 0.4932056 , 0.34100375,\n",
       "        0.44701153, 0.44366345, 0.48025304, 0.46392655, 0.40532297],\n",
       "       [0.48193622, 0.3759521 , 0.43252894, 0.41015643, 0.41765583,\n",
       "        0.44790396, 0.4189172 , 0.3038906 , 0.45645463, 1.        ,\n",
       "        0.4770034 , 0.47575116, 0.43149304, 0.49649245, 0.36982197,\n",
       "        0.40336844, 0.47294235, 0.49011394, 0.4744213 , 0.48079374],\n",
       "       [0.47000894, 0.34823424, 0.36921993, 0.3537935 , 0.36448926,\n",
       "        0.4113837 , 0.38053995, 0.3671186 , 0.45273954, 0.4770034 ,\n",
       "        1.        , 0.4554743 , 0.39179173, 0.45043987, 0.3488293 ,\n",
       "        0.43330774, 0.4123263 , 0.50372034, 0.403031  , 0.38894823],\n",
       "       [0.46943352, 0.3494227 , 0.4395637 , 0.44237003, 0.43494615,\n",
       "        0.4275545 , 0.41604015, 0.3538606 , 0.45858184, 0.47575116,\n",
       "        0.4554743 , 1.        , 0.44137824, 0.4793226 , 0.34369236,\n",
       "        0.47438818, 0.44752383, 0.46137244, 0.46315587, 0.4200399 ],\n",
       "       [0.4901576 , 0.37858582, 0.4288987 , 0.4462458 , 0.44521272,\n",
       "        0.36074424, 0.3821386 , 0.3018723 , 0.40709102, 0.43149304,\n",
       "        0.39179173, 0.44137824, 1.        , 0.44539362, 0.3353787 ,\n",
       "        0.40310067, 0.3860869 , 0.42742395, 0.46428517, 0.36560643],\n",
       "       [0.51162523, 0.38039753, 0.4751516 , 0.45121676, 0.45845777,\n",
       "        0.44753355, 0.4805169 , 0.30884695, 0.4932056 , 0.49649245,\n",
       "        0.45043987, 0.4793226 , 0.44539362, 1.        , 0.36296242,\n",
       "        0.419949  , 0.48253047, 0.4770691 , 0.54989314, 0.45504627],\n",
       "       [0.37357253, 0.3038985 , 0.31347972, 0.30306602, 0.31884927,\n",
       "        0.3105448 , 0.29330623, 0.24421075, 0.34100375, 0.36982197,\n",
       "        0.3488293 , 0.34369236, 0.3353787 , 0.36296242, 1.        ,\n",
       "        0.29525536, 0.33858386, 0.3566097 , 0.34767422, 0.34575802],\n",
       "       [0.41340217, 0.30282634, 0.36407   , 0.36466956, 0.35891747,\n",
       "        0.37459636, 0.39766142, 0.39826298, 0.44701153, 0.40336844,\n",
       "        0.43330774, 0.47438818, 0.40310067, 0.419949  , 0.29525536,\n",
       "        1.        , 0.36420333, 0.45426506, 0.39468724, 0.34804112],\n",
       "       [0.4364916 , 0.3335018 , 0.4032887 , 0.38482165, 0.3997268 ,\n",
       "        0.43849942, 0.37342468, 0.2811123 , 0.44366345, 0.47294235,\n",
       "        0.4123263 , 0.44752383, 0.3860869 , 0.48253047, 0.33858386,\n",
       "        0.36420333, 1.        , 0.43382612, 0.43586814, 0.43485084],\n",
       "       [0.49708277, 0.37797034, 0.38398117, 0.38093024, 0.37723982,\n",
       "        0.42182636, 0.42029434, 0.36700213, 0.48025304, 0.49011394,\n",
       "        0.50372034, 0.46137244, 0.42742395, 0.4770691 , 0.3566097 ,\n",
       "        0.45426506, 0.43382612, 1.        , 0.42475674, 0.3988008 ],\n",
       "       [0.49233168, 0.3665682 , 0.47105503, 0.48043007, 0.4906593 ,\n",
       "        0.4189586 , 0.44507694, 0.26614028, 0.46392655, 0.4744213 ,\n",
       "        0.403031  , 0.46315587, 0.46428517, 0.54989314, 0.34767422,\n",
       "        0.39468724, 0.43586814, 0.42475674, 1.        , 0.41052425],\n",
       "       [0.4327004 , 0.34682083, 0.41609654, 0.37548822, 0.39605716,\n",
       "        0.38696525, 0.35725874, 0.2636825 , 0.40532297, 0.48079374,\n",
       "        0.38894823, 0.4200399 , 0.36560643, 0.45504627, 0.34575802,\n",
       "        0.34804112, 0.43485084, 0.3988008 , 0.41052425, 1.        ]],\n",
       "      dtype=float32)"
      ]
     },
     "execution_count": 10,
     "metadata": {},
     "output_type": "execute_result"
    }
   ],
   "source": [
    "dist_m[-20:,-20:]"
   ]
  },
  {
   "cell_type": "code",
   "execution_count": 11,
   "metadata": {},
   "outputs": [],
   "source": [
    "np.save(\"FFHQ_pairwise_SSIM_distance_matrices-cropface\", dist_m)"
   ]
  },
  {
   "cell_type": "code",
   "execution_count": null,
   "metadata": {},
   "outputs": [],
   "source": []
  }
 ],
 "metadata": {
  "kernelspec": {
   "display_name": "Python 3",
   "language": "python",
   "name": "python3"
  },
  "language_info": {
   "codemirror_mode": {
    "name": "ipython",
    "version": 3
   },
   "file_extension": ".py",
   "mimetype": "text/x-python",
   "name": "python",
   "nbconvert_exporter": "python",
   "pygments_lexer": "ipython3",
   "version": "3.6.10"
  }
 },
 "nbformat": 4,
 "nbformat_minor": 4
}
