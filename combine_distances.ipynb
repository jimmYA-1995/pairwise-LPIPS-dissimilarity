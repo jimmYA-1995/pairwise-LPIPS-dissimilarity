{
 "cells": [
  {
   "cell_type": "code",
   "execution_count": 1,
   "metadata": {},
   "outputs": [],
   "source": [
    "from pathlib import Path\n",
    "import pickle\n",
    "import numpy as np\n",
    "from tqdm import tqdm"
   ]
  },
  {
   "cell_type": "code",
   "execution_count": 2,
   "metadata": {},
   "outputs": [],
   "source": [
    "# filename format: dist-{start_block}-{end_block}.pkl\n",
    "PKL_DIR = Path('dists')\n",
    "N_FEAT = 70000"
   ]
  },
  {
   "cell_type": "code",
   "execution_count": 3,
   "metadata": {},
   "outputs": [],
   "source": [
    "pkl_paths = list(PKL_DIR.glob('*.pkl'))\n",
    "pkl_paths.sort(key=lambda p: int(p.stem.split('-')[1])) # sort by start block"
   ]
  },
  {
   "cell_type": "code",
   "execution_count": 4,
   "metadata": {},
   "outputs": [
    {
     "data": {
      "text/plain": [
       "[PosixPath('dists/dist-0-3339.pkl'),\n",
       " PosixPath('dists/dist-3339-6678.pkl'),\n",
       " PosixPath('dists/dist-6678-10017.pkl'),\n",
       " PosixPath('dists/dist-10017-13356.pkl'),\n",
       " PosixPath('dists/dist-13356-16695.pkl'),\n",
       " PosixPath('dists/dist-16695-20034.pkl'),\n",
       " PosixPath('dists/dist-20034-23373.pkl'),\n",
       " PosixPath('dists/dist-23373-26712.pkl'),\n",
       " PosixPath('dists/dist-26712-30051.pkl'),\n",
       " PosixPath('dists/dist-30051-33390.pkl'),\n",
       " PosixPath('dists/dist-33390-36729.pkl'),\n",
       " PosixPath('dists/dist-36729-40068.pkl'),\n",
       " PosixPath('dists/dist-40068-43407.pkl'),\n",
       " PosixPath('dists/dist-43407-46746.pkl'),\n",
       " PosixPath('dists/dist-46746-50085.pkl'),\n",
       " PosixPath('dists/dist-50085-53424.pkl'),\n",
       " PosixPath('dists/dist-53424-56763.pkl'),\n",
       " PosixPath('dists/dist-56763-60102.pkl'),\n",
       " PosixPath('dists/dist-60102-63441.pkl'),\n",
       " PosixPath('dists/dist-63441-66780.pkl'),\n",
       " PosixPath('dists/dist-66780-70119.pkl'),\n",
       " PosixPath('dists/dist-70119-73458.pkl'),\n",
       " PosixPath('dists/dist-73458-76797.pkl'),\n",
       " PosixPath('dists/dist-76797-80136.pkl'),\n",
       " PosixPath('dists/dist-80136-83475.pkl'),\n",
       " PosixPath('dists/dist-83475-86814.pkl'),\n",
       " PosixPath('dists/dist-86814-90153.pkl'),\n",
       " PosixPath('dists/dist-90153-93492.pkl'),\n",
       " PosixPath('dists/dist-93492-96831.pkl'),\n",
       " PosixPath('dists/dist-96831-100170.pkl'),\n",
       " PosixPath('dists/dist-100170-103509.pkl'),\n",
       " PosixPath('dists/dist-103509-106848.pkl'),\n",
       " PosixPath('dists/dist-106848-110187.pkl'),\n",
       " PosixPath('dists/dist-110187-113526.pkl'),\n",
       " PosixPath('dists/dist-113526-116865.pkl'),\n",
       " PosixPath('dists/dist-116865-120204.pkl'),\n",
       " PosixPath('dists/dist-120204-123543.pkl'),\n",
       " PosixPath('dists/dist-123543-126882.pkl'),\n",
       " PosixPath('dists/dist-126882-130221.pkl'),\n",
       " PosixPath('dists/dist-130221-133560.pkl'),\n",
       " PosixPath('dists/dist-133560-136899.pkl'),\n",
       " PosixPath('dists/dist-136899-140238.pkl'),\n",
       " PosixPath('dists/dist-140238-143577.pkl'),\n",
       " PosixPath('dists/dist-143577-146916.pkl'),\n",
       " PosixPath('dists/dist-146916-150255.pkl'),\n",
       " PosixPath('dists/dist-150255-153594.pkl'),\n",
       " PosixPath('dists/dist-153594-156933.pkl'),\n",
       " PosixPath('dists/dist-156933-160272.pkl'),\n",
       " PosixPath('dists/dist-160272-163611.pkl'),\n",
       " PosixPath('dists/dist-163611-166950.pkl'),\n",
       " PosixPath('dists/dist-166950-170289.pkl'),\n",
       " PosixPath('dists/dist-170289-173628.pkl'),\n",
       " PosixPath('dists/dist-173628-176967.pkl'),\n",
       " PosixPath('dists/dist-176967-180306.pkl'),\n",
       " PosixPath('dists/dist-180306-183645.pkl'),\n",
       " PosixPath('dists/dist-183645-186984.pkl'),\n",
       " PosixPath('dists/dist-186984-190323.pkl'),\n",
       " PosixPath('dists/dist-190323-193662.pkl'),\n",
       " PosixPath('dists/dist-193662-197001.pkl'),\n",
       " PosixPath('dists/dist-197001-200340.pkl'),\n",
       " PosixPath('dists/dist-200340-203679.pkl'),\n",
       " PosixPath('dists/dist-203679-207018.pkl'),\n",
       " PosixPath('dists/dist-207018-210357.pkl'),\n",
       " PosixPath('dists/dist-210357-213696.pkl'),\n",
       " PosixPath('dists/dist-213696-217035.pkl'),\n",
       " PosixPath('dists/dist-217035-220374.pkl'),\n",
       " PosixPath('dists/dist-220374-223713.pkl'),\n",
       " PosixPath('dists/dist-223713-227052.pkl'),\n",
       " PosixPath('dists/dist-227052-230391.pkl'),\n",
       " PosixPath('dists/dist-230391-233730.pkl'),\n",
       " PosixPath('dists/dist-233730-237069.pkl'),\n",
       " PosixPath('dists/dist-237069-240408.pkl'),\n",
       " PosixPath('dists/dist-240408-243747.pkl'),\n",
       " PosixPath('dists/dist-243747-247086.pkl'),\n",
       " PosixPath('dists/dist-247086-250425.pkl'),\n",
       " PosixPath('dists/dist-250425-253764.pkl'),\n",
       " PosixPath('dists/dist-253764-257103.pkl'),\n",
       " PosixPath('dists/dist-257103-260442.pkl'),\n",
       " PosixPath('dists/dist-260442-263781.pkl'),\n",
       " PosixPath('dists/dist-263781-266815.pkl')]"
      ]
     },
     "execution_count": 4,
     "metadata": {},
     "output_type": "execute_result"
    }
   ],
   "source": [
    "pkl_paths"
   ]
  },
  {
   "cell_type": "code",
   "execution_count": 5,
   "metadata": {},
   "outputs": [],
   "source": [
    "# 66780 - 70119"
   ]
  },
  {
   "cell_type": "code",
   "execution_count": 16,
   "metadata": {},
   "outputs": [],
   "source": [
    "dist_m = np.empty((N_FEAT, N_FEAT), dtype=np.float32)"
   ]
  },
  {
   "cell_type": "code",
   "execution_count": 17,
   "metadata": {},
   "outputs": [
    {
     "data": {
      "text/plain": [
       "array([[0., 0., 0., 0., 0., 0., 0., 0., 0., 0., 0., 0., 0., 0., 0., 0.,\n",
       "        0., 0., 0., 0.],\n",
       "       [0., 0., 0., 0., 0., 0., 0., 0., 0., 0., 0., 0., 0., 0., 0., 0.,\n",
       "        0., 0., 0., 0.],\n",
       "       [0., 0., 0., 0., 0., 0., 0., 0., 0., 0., 0., 0., 0., 0., 0., 0.,\n",
       "        0., 0., 0., 0.],\n",
       "       [0., 0., 0., 0., 0., 0., 0., 0., 0., 0., 0., 0., 0., 0., 0., 0.,\n",
       "        0., 0., 0., 0.],\n",
       "       [0., 0., 0., 0., 0., 0., 0., 0., 0., 0., 0., 0., 0., 0., 0., 0.,\n",
       "        0., 0., 0., 0.],\n",
       "       [0., 0., 0., 0., 0., 0., 0., 0., 0., 0., 0., 0., 0., 0., 0., 0.,\n",
       "        0., 0., 0., 0.],\n",
       "       [0., 0., 0., 0., 0., 0., 0., 0., 0., 0., 0., 0., 0., 0., 0., 0.,\n",
       "        0., 0., 0., 0.],\n",
       "       [0., 0., 0., 0., 0., 0., 0., 0., 0., 0., 0., 0., 0., 0., 0., 0.,\n",
       "        0., 0., 0., 0.],\n",
       "       [0., 0., 0., 0., 0., 0., 0., 0., 0., 0., 0., 0., 0., 0., 0., 0.,\n",
       "        0., 0., 0., 0.],\n",
       "       [0., 0., 0., 0., 0., 0., 0., 0., 0., 0., 0., 0., 0., 0., 0., 0.,\n",
       "        0., 0., 0., 0.]], dtype=float32)"
      ]
     },
     "execution_count": 17,
     "metadata": {},
     "output_type": "execute_result"
    }
   ],
   "source": [
    "dist_m[50:60,:20]"
   ]
  },
  {
   "cell_type": "code",
   "execution_count": 18,
   "metadata": {},
   "outputs": [
    {
     "name": "stderr",
     "output_type": "stream",
     "text": [
      "  0%|          | 0/80 [00:00<?, ?it/s]"
     ]
    },
    {
     "name": "stdout",
     "output_type": "stream",
     "text": [
      "1911\r"
     ]
    },
    {
     "name": "stderr",
     "output_type": "stream",
     "text": [
      "  1%|▏         | 1/80 [00:00<00:43,  1.83it/s]"
     ]
    },
    {
     "name": "stdout",
     "output_type": "stream",
     "text": [
      "5545\r"
     ]
    },
    {
     "name": "stderr",
     "output_type": "stream",
     "text": [
      "  2%|▎         | 2/80 [00:01<00:40,  1.91it/s]"
     ]
    },
    {
     "name": "stdout",
     "output_type": "stream",
     "text": [
      "9191\r"
     ]
    },
    {
     "name": "stderr",
     "output_type": "stream",
     "text": [
      "  4%|▍         | 3/80 [00:01<00:38,  2.01it/s]"
     ]
    },
    {
     "name": "stdout",
     "output_type": "stream",
     "text": [
      "11952\r"
     ]
    },
    {
     "name": "stderr",
     "output_type": "stream",
     "text": [
      "  5%|▌         | 4/80 [00:01<00:38,  2.00it/s]"
     ]
    },
    {
     "name": "stdout",
     "output_type": "stream",
     "text": [
      "15164\r"
     ]
    },
    {
     "name": "stderr",
     "output_type": "stream",
     "text": [
      "  6%|▋         | 5/80 [00:02<00:36,  2.03it/s]"
     ]
    },
    {
     "name": "stdout",
     "output_type": "stream",
     "text": [
      "19318\r"
     ]
    },
    {
     "name": "stderr",
     "output_type": "stream",
     "text": [
      "  8%|▊         | 6/80 [00:02<00:35,  2.09it/s]"
     ]
    },
    {
     "name": "stdout",
     "output_type": "stream",
     "text": [
      "22462\r"
     ]
    },
    {
     "name": "stderr",
     "output_type": "stream",
     "text": [
      "  9%|▉         | 7/80 [00:03<00:34,  2.13it/s]"
     ]
    },
    {
     "name": "stdout",
     "output_type": "stream",
     "text": [
      "25751\r"
     ]
    },
    {
     "name": "stderr",
     "output_type": "stream",
     "text": [
      " 10%|█         | 8/80 [00:03<00:32,  2.19it/s]"
     ]
    },
    {
     "name": "stdout",
     "output_type": "stream",
     "text": [
      "28512\r"
     ]
    },
    {
     "name": "stderr",
     "output_type": "stream",
     "text": [
      " 11%|█▏        | 9/80 [00:04<00:33,  2.13it/s]"
     ]
    },
    {
     "name": "stdout",
     "output_type": "stream",
     "text": [
      "31906\r"
     ]
    },
    {
     "name": "stderr",
     "output_type": "stream",
     "text": [
      " 12%|█▎        | 10/80 [00:04<00:33,  2.12it/s]"
     ]
    },
    {
     "name": "stdout",
     "output_type": "stream",
     "text": [
      "35788\r"
     ]
    },
    {
     "name": "stderr",
     "output_type": "stream",
     "text": [
      " 14%|█▍        | 11/80 [00:05<00:31,  2.21it/s]"
     ]
    },
    {
     "name": "stdout",
     "output_type": "stream",
     "text": [
      "38737\r"
     ]
    },
    {
     "name": "stderr",
     "output_type": "stream",
     "text": [
      " 15%|█▌        | 12/80 [00:05<00:30,  2.23it/s]"
     ]
    },
    {
     "name": "stdout",
     "output_type": "stream",
     "text": [
      "42619\r"
     ]
    },
    {
     "name": "stderr",
     "output_type": "stream",
     "text": [
      " 16%|█▋        | 13/80 [00:06<00:29,  2.25it/s]"
     ]
    },
    {
     "name": "stdout",
     "output_type": "stream",
     "text": [
      "45848\r"
     ]
    },
    {
     "name": "stderr",
     "output_type": "stream",
     "text": [
      " 18%|█▊        | 14/80 [00:06<00:29,  2.25it/s]"
     ]
    },
    {
     "name": "stdout",
     "output_type": "stream",
     "text": [
      "49680"
     ]
    },
    {
     "name": "stderr",
     "output_type": "stream",
     "text": [
      " 19%|█▉        | 15/80 [00:07<00:34,  1.90it/s]"
     ]
    },
    {
     "name": "stdout",
     "output_type": "stream",
     "text": [
      "52174\r"
     ]
    },
    {
     "name": "stderr",
     "output_type": "stream",
     "text": [
      " 20%|██        | 16/80 [00:07<00:32,  1.97it/s]"
     ]
    },
    {
     "name": "stdout",
     "output_type": "stream",
     "text": [
      "55835\r"
     ]
    },
    {
     "name": "stderr",
     "output_type": "stream",
     "text": [
      " 21%|██▏       | 17/80 [00:08<00:30,  2.06it/s]"
     ]
    },
    {
     "name": "stdout",
     "output_type": "stream",
     "text": [
      "59256\r"
     ]
    },
    {
     "name": "stderr",
     "output_type": "stream",
     "text": [
      " 22%|██▎       | 18/80 [00:08<00:28,  2.15it/s]"
     ]
    },
    {
     "name": "stdout",
     "output_type": "stream",
     "text": [
      "62734\r"
     ]
    },
    {
     "name": "stderr",
     "output_type": "stream",
     "text": [
      " 24%|██▍       | 19/80 [00:08<00:27,  2.22it/s]"
     ]
    },
    {
     "name": "stdout",
     "output_type": "stream",
     "text": [
      "65912\r"
     ]
    },
    {
     "name": "stderr",
     "output_type": "stream",
     "text": [
      " 25%|██▌       | 20/80 [00:09<00:26,  2.25it/s]"
     ]
    },
    {
     "name": "stdout",
     "output_type": "stream",
     "text": [
      "68657\r"
     ]
    },
    {
     "name": "stderr",
     "output_type": "stream",
     "text": [
      " 26%|██▋       | 21/80 [00:09<00:27,  2.17it/s]"
     ]
    },
    {
     "name": "stdout",
     "output_type": "stream",
     "text": [
      "72450\r"
     ]
    },
    {
     "name": "stderr",
     "output_type": "stream",
     "text": [
      " 28%|██▊       | 22/80 [00:10<00:26,  2.21it/s]"
     ]
    },
    {
     "name": "stdout",
     "output_type": "stream",
     "text": [
      "75908\r"
     ]
    },
    {
     "name": "stderr",
     "output_type": "stream",
     "text": [
      " 29%|██▉       | 23/80 [00:10<00:25,  2.25it/s]"
     ]
    },
    {
     "name": "stdout",
     "output_type": "stream",
     "text": [
      "79192\r"
     ]
    },
    {
     "name": "stderr",
     "output_type": "stream",
     "text": [
      " 30%|███       | 24/80 [00:11<00:24,  2.26it/s]"
     ]
    },
    {
     "name": "stdout",
     "output_type": "stream",
     "text": [
      "82058\r"
     ]
    },
    {
     "name": "stderr",
     "output_type": "stream",
     "text": [
      " 31%|███▏      | 25/80 [00:11<00:25,  2.14it/s]"
     ]
    },
    {
     "name": "stdout",
     "output_type": "stream",
     "text": [
      "85320\r"
     ]
    },
    {
     "name": "stderr",
     "output_type": "stream",
     "text": [
      " 32%|███▎      | 26/80 [00:12<00:26,  2.07it/s]"
     ]
    },
    {
     "name": "stdout",
     "output_type": "stream",
     "text": [
      "88858\r"
     ]
    },
    {
     "name": "stderr",
     "output_type": "stream",
     "text": [
      " 34%|███▍      | 27/80 [00:12<00:25,  2.07it/s]"
     ]
    },
    {
     "name": "stdout",
     "output_type": "stream",
     "text": [
      "92281\r"
     ]
    },
    {
     "name": "stderr",
     "output_type": "stream",
     "text": [
      " 35%|███▌      | 28/80 [00:13<00:24,  2.08it/s]"
     ]
    },
    {
     "name": "stdout",
     "output_type": "stream",
     "text": [
      "95470\r"
     ]
    },
    {
     "name": "stderr",
     "output_type": "stream",
     "text": [
      " 36%|███▋      | 29/80 [00:13<00:24,  2.06it/s]"
     ]
    },
    {
     "name": "stdout",
     "output_type": "stream",
     "text": [
      "99040\r"
     ]
    },
    {
     "name": "stderr",
     "output_type": "stream",
     "text": [
      " 38%|███▊      | 30/80 [00:14<00:23,  2.10it/s]"
     ]
    },
    {
     "name": "stdout",
     "output_type": "stream",
     "text": [
      "102046\r"
     ]
    },
    {
     "name": "stderr",
     "output_type": "stream",
     "text": [
      " 39%|███▉      | 31/80 [00:14<00:23,  2.05it/s]"
     ]
    },
    {
     "name": "stdout",
     "output_type": "stream",
     "text": [
      "105992\r"
     ]
    },
    {
     "name": "stderr",
     "output_type": "stream",
     "text": [
      " 40%|████      | 32/80 [00:15<00:22,  2.10it/s]"
     ]
    },
    {
     "name": "stdout",
     "output_type": "stream",
     "text": [
      "108691\r"
     ]
    },
    {
     "name": "stderr",
     "output_type": "stream",
     "text": [
      " 41%|████▏     | 33/80 [00:15<00:22,  2.05it/s]"
     ]
    },
    {
     "name": "stdout",
     "output_type": "stream",
     "text": [
      "112850\r"
     ]
    },
    {
     "name": "stderr",
     "output_type": "stream",
     "text": [
      " 42%|████▎     | 34/80 [00:16<00:26,  1.76it/s]"
     ]
    },
    {
     "name": "stdout",
     "output_type": "stream",
     "text": [
      "115998\r"
     ]
    },
    {
     "name": "stderr",
     "output_type": "stream",
     "text": [
      " 44%|████▍     | 35/80 [00:16<00:24,  1.87it/s]"
     ]
    },
    {
     "name": "stdout",
     "output_type": "stream",
     "text": [
      "119300\r"
     ]
    },
    {
     "name": "stderr",
     "output_type": "stream",
     "text": [
      " 45%|████▌     | 36/80 [00:17<00:22,  1.99it/s]"
     ]
    },
    {
     "name": "stdout",
     "output_type": "stream",
     "text": [
      "122138\r"
     ]
    },
    {
     "name": "stderr",
     "output_type": "stream",
     "text": [
      " 46%|████▋     | 37/80 [00:17<00:22,  1.95it/s]"
     ]
    },
    {
     "name": "stdout",
     "output_type": "stream",
     "text": [
      "125407\r"
     ]
    },
    {
     "name": "stderr",
     "output_type": "stream",
     "text": [
      " 48%|████▊     | 38/80 [00:18<00:21,  1.94it/s]"
     ]
    },
    {
     "name": "stdout",
     "output_type": "stream",
     "text": [
      "129272\r"
     ]
    },
    {
     "name": "stderr",
     "output_type": "stream",
     "text": [
      " 49%|████▉     | 39/80 [00:18<00:20,  2.04it/s]"
     ]
    },
    {
     "name": "stdout",
     "output_type": "stream",
     "text": [
      "132784\r"
     ]
    },
    {
     "name": "stderr",
     "output_type": "stream",
     "text": [
      " 50%|█████     | 40/80 [00:19<00:18,  2.11it/s]"
     ]
    },
    {
     "name": "stdout",
     "output_type": "stream",
     "text": [
      "135939\r"
     ]
    },
    {
     "name": "stderr",
     "output_type": "stream",
     "text": [
      " 51%|█████▏    | 41/80 [00:19<00:18,  2.13it/s]"
     ]
    },
    {
     "name": "stdout",
     "output_type": "stream",
     "text": [
      "139342\r"
     ]
    },
    {
     "name": "stderr",
     "output_type": "stream",
     "text": [
      " 52%|█████▎    | 42/80 [00:20<00:17,  2.17it/s]"
     ]
    },
    {
     "name": "stdout",
     "output_type": "stream",
     "text": [
      "142783\r"
     ]
    },
    {
     "name": "stderr",
     "output_type": "stream",
     "text": [
      " 54%|█████▍    | 43/80 [00:20<00:16,  2.21it/s]"
     ]
    },
    {
     "name": "stdout",
     "output_type": "stream",
     "text": [
      "146155\r"
     ]
    },
    {
     "name": "stderr",
     "output_type": "stream",
     "text": [
      " 55%|█████▌    | 44/80 [00:20<00:16,  2.25it/s]"
     ]
    },
    {
     "name": "stdout",
     "output_type": "stream",
     "text": [
      "148945\r"
     ]
    },
    {
     "name": "stderr",
     "output_type": "stream",
     "text": [
      " 56%|█████▋    | 45/80 [00:21<00:16,  2.17it/s]"
     ]
    },
    {
     "name": "stdout",
     "output_type": "stream",
     "text": [
      "152401\r"
     ]
    },
    {
     "name": "stderr",
     "output_type": "stream",
     "text": [
      " 57%|█████▊    | 46/80 [00:21<00:15,  2.18it/s]"
     ]
    },
    {
     "name": "stdout",
     "output_type": "stream",
     "text": [
      "155816\r"
     ]
    },
    {
     "name": "stderr",
     "output_type": "stream",
     "text": [
      " 59%|█████▉    | 47/80 [00:22<00:15,  2.12it/s]"
     ]
    },
    {
     "name": "stdout",
     "output_type": "stream",
     "text": [
      "158720\r"
     ]
    },
    {
     "name": "stderr",
     "output_type": "stream",
     "text": [
      " 60%|██████    | 48/80 [00:22<00:15,  2.07it/s]"
     ]
    },
    {
     "name": "stdout",
     "output_type": "stream",
     "text": [
      "162152\r"
     ]
    },
    {
     "name": "stderr",
     "output_type": "stream",
     "text": [
      " 61%|██████▏   | 49/80 [00:23<00:15,  2.02it/s]"
     ]
    },
    {
     "name": "stdout",
     "output_type": "stream",
     "text": [
      "165605\r"
     ]
    },
    {
     "name": "stderr",
     "output_type": "stream",
     "text": [
      " 62%|██████▎   | 50/80 [00:23<00:14,  2.04it/s]"
     ]
    },
    {
     "name": "stdout",
     "output_type": "stream",
     "text": [
      "169425\r"
     ]
    },
    {
     "name": "stderr",
     "output_type": "stream",
     "text": [
      " 64%|██████▍   | 51/80 [00:24<00:13,  2.11it/s]"
     ]
    },
    {
     "name": "stdout",
     "output_type": "stream",
     "text": [
      "172529\r"
     ]
    },
    {
     "name": "stderr",
     "output_type": "stream",
     "text": [
      " 65%|██████▌   | 52/80 [00:24<00:13,  2.09it/s]"
     ]
    },
    {
     "name": "stdout",
     "output_type": "stream",
     "text": [
      "175428\r"
     ]
    },
    {
     "name": "stderr",
     "output_type": "stream",
     "text": [
      " 66%|██████▋   | 53/80 [00:25<00:13,  2.05it/s]"
     ]
    },
    {
     "name": "stdout",
     "output_type": "stream",
     "text": [
      "179467\r"
     ]
    },
    {
     "name": "stderr",
     "output_type": "stream",
     "text": [
      " 68%|██████▊   | 54/80 [00:25<00:12,  2.14it/s]"
     ]
    },
    {
     "name": "stdout",
     "output_type": "stream",
     "text": [
      "182224\r"
     ]
    },
    {
     "name": "stderr",
     "output_type": "stream",
     "text": [
      " 69%|██████▉   | 55/80 [00:26<00:11,  2.10it/s]"
     ]
    },
    {
     "name": "stdout",
     "output_type": "stream",
     "text": [
      "185858\r"
     ]
    },
    {
     "name": "stderr",
     "output_type": "stream",
     "text": [
      " 70%|███████   | 56/80 [00:26<00:11,  2.15it/s]"
     ]
    },
    {
     "name": "stdout",
     "output_type": "stream",
     "text": [
      "189576\r"
     ]
    },
    {
     "name": "stderr",
     "output_type": "stream",
     "text": [
      " 71%|███████▏  | 57/80 [00:27<00:10,  2.23it/s]"
     ]
    },
    {
     "name": "stdout",
     "output_type": "stream",
     "text": [
      "192770\r"
     ]
    },
    {
     "name": "stderr",
     "output_type": "stream",
     "text": [
      " 72%|███████▎  | 58/80 [00:27<00:09,  2.21it/s]"
     ]
    },
    {
     "name": "stdout",
     "output_type": "stream",
     "text": [
      "196106\r"
     ]
    },
    {
     "name": "stderr",
     "output_type": "stream",
     "text": [
      " 74%|███████▍  | 59/80 [00:27<00:09,  2.23it/s]"
     ]
    },
    {
     "name": "stdout",
     "output_type": "stream",
     "text": [
      "199454\r"
     ]
    },
    {
     "name": "stderr",
     "output_type": "stream",
     "text": [
      " 75%|███████▌  | 60/80 [00:28<00:08,  2.27it/s]"
     ]
    },
    {
     "name": "stdout",
     "output_type": "stream",
     "text": [
      "202423\r"
     ]
    },
    {
     "name": "stderr",
     "output_type": "stream",
     "text": [
      " 76%|███████▋  | 61/80 [00:28<00:08,  2.16it/s]"
     ]
    },
    {
     "name": "stdout",
     "output_type": "stream",
     "text": [
      "205391\r"
     ]
    },
    {
     "name": "stderr",
     "output_type": "stream",
     "text": [
      " 78%|███████▊  | 62/80 [00:29<00:08,  2.08it/s]"
     ]
    },
    {
     "name": "stdout",
     "output_type": "stream",
     "text": [
      "209346\r"
     ]
    },
    {
     "name": "stderr",
     "output_type": "stream",
     "text": [
      " 79%|███████▉  | 63/80 [00:29<00:07,  2.19it/s]"
     ]
    },
    {
     "name": "stdout",
     "output_type": "stream",
     "text": [
      "212821\r"
     ]
    },
    {
     "name": "stderr",
     "output_type": "stream",
     "text": [
      " 80%|████████  | 64/80 [00:30<00:07,  2.20it/s]"
     ]
    },
    {
     "name": "stdout",
     "output_type": "stream",
     "text": [
      "216222\r"
     ]
    },
    {
     "name": "stderr",
     "output_type": "stream",
     "text": [
      " 81%|████████▏ | 65/80 [00:30<00:06,  2.24it/s]"
     ]
    },
    {
     "name": "stdout",
     "output_type": "stream",
     "text": [
      "219508\r"
     ]
    },
    {
     "name": "stderr",
     "output_type": "stream",
     "text": [
      " 82%|████████▎ | 66/80 [00:31<00:06,  2.25it/s]"
     ]
    },
    {
     "name": "stdout",
     "output_type": "stream",
     "text": [
      "222805\r"
     ]
    },
    {
     "name": "stderr",
     "output_type": "stream",
     "text": [
      " 84%|████████▍ | 67/80 [00:31<00:05,  2.24it/s]"
     ]
    },
    {
     "name": "stdout",
     "output_type": "stream",
     "text": [
      "226200\r"
     ]
    },
    {
     "name": "stderr",
     "output_type": "stream",
     "text": [
      " 85%|████████▌ | 68/80 [00:32<00:05,  2.27it/s]"
     ]
    },
    {
     "name": "stdout",
     "output_type": "stream",
     "text": [
      "229420\r"
     ]
    },
    {
     "name": "stderr",
     "output_type": "stream",
     "text": [
      " 86%|████████▋ | 69/80 [00:32<00:04,  2.28it/s]"
     ]
    },
    {
     "name": "stdout",
     "output_type": "stream",
     "text": [
      "232897\r"
     ]
    },
    {
     "name": "stderr",
     "output_type": "stream",
     "text": [
      " 88%|████████▊ | 70/80 [00:32<00:04,  2.14it/s]"
     ]
    },
    {
     "name": "stdout",
     "output_type": "stream",
     "text": [
      "236145\r"
     ]
    },
    {
     "name": "stderr",
     "output_type": "stream",
     "text": [
      " 89%|████████▉ | 71/80 [00:33<00:04,  2.14it/s]"
     ]
    },
    {
     "name": "stdout",
     "output_type": "stream",
     "text": [
      "239271\r"
     ]
    },
    {
     "name": "stderr",
     "output_type": "stream",
     "text": [
      " 90%|█████████ | 72/80 [00:33<00:03,  2.08it/s]"
     ]
    },
    {
     "name": "stdout",
     "output_type": "stream",
     "text": [
      "242707\r"
     ]
    },
    {
     "name": "stderr",
     "output_type": "stream",
     "text": [
      " 91%|█████████▏| 73/80 [00:34<00:03,  2.17it/s]"
     ]
    },
    {
     "name": "stdout",
     "output_type": "stream",
     "text": [
      "246189\r"
     ]
    },
    {
     "name": "stderr",
     "output_type": "stream",
     "text": [
      " 92%|█████████▎| 74/80 [00:34<00:02,  2.20it/s]"
     ]
    },
    {
     "name": "stdout",
     "output_type": "stream",
     "text": [
      "249537\r"
     ]
    },
    {
     "name": "stderr",
     "output_type": "stream",
     "text": [
      " 94%|█████████▍| 75/80 [00:35<00:02,  2.25it/s]"
     ]
    },
    {
     "name": "stdout",
     "output_type": "stream",
     "text": [
      "252874\r"
     ]
    },
    {
     "name": "stderr",
     "output_type": "stream",
     "text": [
      " 95%|█████████▌| 76/80 [00:35<00:01,  2.27it/s]"
     ]
    },
    {
     "name": "stdout",
     "output_type": "stream",
     "text": [
      "256147\r"
     ]
    },
    {
     "name": "stderr",
     "output_type": "stream",
     "text": [
      " 96%|█████████▋| 77/80 [00:36<00:01,  2.27it/s]"
     ]
    },
    {
     "name": "stdout",
     "output_type": "stream",
     "text": [
      "259565\r"
     ]
    },
    {
     "name": "stderr",
     "output_type": "stream",
     "text": [
      " 98%|█████████▊| 78/80 [00:36<00:00,  2.32it/s]"
     ]
    },
    {
     "name": "stdout",
     "output_type": "stream",
     "text": [
      "262867\r"
     ]
    },
    {
     "name": "stderr",
     "output_type": "stream",
     "text": [
      " 99%|█████████▉| 79/80 [00:36<00:00,  2.33it/s]"
     ]
    },
    {
     "name": "stdout",
     "output_type": "stream",
     "text": [
      "266221\r"
     ]
    },
    {
     "name": "stderr",
     "output_type": "stream",
     "text": [
      "100%|██████████| 80/80 [00:37<00:00,  2.39it/s]"
     ]
    },
    {
     "name": "stdout",
     "output_type": "stream",
     "text": [
      "266814\r"
     ]
    },
    {
     "name": "stderr",
     "output_type": "stream",
     "text": [
      "\n"
     ]
    }
   ],
   "source": [
    "ri, ci = 0, 0\n",
    "b = 96\n",
    "n_row = 0\n",
    "for pkl in tqdm(pkl_paths):\n",
    "    dists = pickle.loads(pkl.read_bytes())\n",
    "    for dist in dists:\n",
    "        print(dist['idx'], end=\"\\r\")\n",
    "        diff = dist['diff']\n",
    "        row, col = diff.shape\n",
    "        \n",
    "        dist_m[ri:ri+row, ci:ci+col] = diff\n",
    "        ci += col\n",
    "        \n",
    "        if ci >= N_FEAT:\n",
    "            n_row += 1\n",
    "            ci = n_row * b\n",
    "            ri += row\n",
    "            # print(ri, ci)\n"
   ]
  },
  {
   "cell_type": "markdown",
   "metadata": {},
   "source": [
    "## Mirror (needs more than 60GB memory)"
   ]
  },
  {
   "cell_type": "code",
   "execution_count": 9,
   "metadata": {},
   "outputs": [],
   "source": [
    "%%time\n",
    "i,j = np.indices((N_FEAT,N_FEAT))\n",
    "rs, cs = np.where(i>j)\n",
    "dist_m[rs, cs] = dist_m[cs, rs]"
   ]
  },
  {
   "cell_type": "raw",
   "metadata": {},
   "source": [
    "%%time\n",
    "CPU times: user 12min 57s, sys: 21.4 s, total: 13min 18s\n",
    "Wall time: 13min 19s\n",
    "\n",
    "for i in range(N_FEAT):\n",
    "    for j in range(i):\n",
    "        dist_m[i,j] = dist_m[j,i]"
   ]
  },
  {
   "cell_type": "markdown",
   "metadata": {},
   "source": [
    "## manually check"
   ]
  },
  {
   "cell_type": "code",
   "execution_count": 24,
   "metadata": {},
   "outputs": [
    {
     "data": {
      "text/plain": [
       "array([[0.        , 0.6383021 , 0.59187907, 0.5825499 , 0.61142546,\n",
       "        0.5443418 , 0.59715486, 0.63528   , 0.50087917, 0.54142135,\n",
       "        0.5985481 , 0.5756943 , 0.55418503, 0.54703164, 0.5474584 ,\n",
       "        0.57636845, 0.6015767 , 0.5818931 , 0.5466555 , 0.5310434 ],\n",
       "       [0.6383021 , 0.        , 0.5250151 , 0.5717621 , 0.58309305,\n",
       "        0.56163096, 0.6250673 , 0.58450115, 0.60556126, 0.5273764 ,\n",
       "        0.49544948, 0.66140044, 0.57249767, 0.5161962 , 0.6085554 ,\n",
       "        0.51668215, 0.5951252 , 0.5472866 , 0.59011805, 0.5904481 ],\n",
       "       [0.59187907, 0.5250151 , 0.        , 0.45842868, 0.50630283,\n",
       "        0.5477898 , 0.5097079 , 0.48374587, 0.6582681 , 0.5402428 ,\n",
       "        0.5320245 , 0.5118952 , 0.6722852 , 0.5804509 , 0.4865635 ,\n",
       "        0.5561131 , 0.59417   , 0.56035817, 0.657303  , 0.58218896],\n",
       "       [0.5825499 , 0.5717621 , 0.45842868, 0.        , 0.58273065,\n",
       "        0.60043347, 0.5282733 , 0.5507113 , 0.4920249 , 0.70249265,\n",
       "        0.52218777, 0.56192577, 0.5429733 , 0.48830718, 0.51291597,\n",
       "        0.630743  , 0.58775413, 0.6255219 , 0.50276613, 0.57443976],\n",
       "       [0.61142546, 0.58309305, 0.50630283, 0.58273065, 0.        ,\n",
       "        0.6046175 , 0.54229057, 0.5019076 , 0.55782014, 0.6410034 ,\n",
       "        0.5222049 , 0.5178262 , 0.6131284 , 0.6667811 , 0.6608289 ,\n",
       "        0.5250766 , 0.5879374 , 0.6184679 , 0.5803782 , 0.5083417 ],\n",
       "       [0.5443418 , 0.56163096, 0.5477898 , 0.60043347, 0.6046175 ,\n",
       "        0.        , 0.57854813, 0.6257473 , 0.5974539 , 0.6721467 ,\n",
       "        0.6084195 , 0.605145  , 0.62813675, 0.6673595 , 0.61901903,\n",
       "        0.59347785, 0.52778137, 0.59734654, 0.57136613, 0.5919316 ],\n",
       "       [0.59715486, 0.6250673 , 0.5097079 , 0.5282733 , 0.54229057,\n",
       "        0.57854813, 0.        , 0.59414315, 0.5841967 , 0.61443555,\n",
       "        0.60870326, 0.5236926 , 0.62890625, 0.6721801 , 0.6958456 ,\n",
       "        0.61941034, 0.55924666, 0.60863745, 0.5467709 , 0.56115377],\n",
       "       [0.63528   , 0.58450115, 0.48374587, 0.5507113 , 0.5019076 ,\n",
       "        0.6257473 , 0.59414315, 0.        , 0.5833484 , 0.6055492 ,\n",
       "        0.58961046, 0.5932316 , 0.6357052 , 0.7111555 , 0.601743  ,\n",
       "        0.61065006, 0.56515425, 0.589641  , 0.6114227 , 0.5498729 ],\n",
       "       [0.50087917, 0.60556126, 0.6582681 , 0.4920249 , 0.55782014,\n",
       "        0.5974539 , 0.5841967 , 0.5833484 , 0.        , 0.58685875,\n",
       "        0.59562516, 0.59781474, 0.6622532 , 0.71552527, 0.65460366,\n",
       "        0.61652476, 0.56793994, 0.58382094, 0.61032414, 0.5570011 ],\n",
       "       [0.54142135, 0.5273764 , 0.5402428 , 0.70249265, 0.6410034 ,\n",
       "        0.6721467 , 0.61443555, 0.6055492 , 0.58685875, 0.        ,\n",
       "        0.5971524 , 0.64728624, 0.7230361 , 0.7922088 , 0.6486681 ,\n",
       "        0.68660337, 0.5637649 , 0.6019248 , 0.6667746 , 0.5849593 ],\n",
       "       [0.5985481 , 0.49544948, 0.5320245 , 0.52218777, 0.5222049 ,\n",
       "        0.6084195 , 0.60870326, 0.58961046, 0.59562516, 0.5971524 ,\n",
       "        0.        , 0.58165485, 0.6938951 , 0.75803125, 0.67725456,\n",
       "        0.5869672 , 0.5657488 , 0.6054145 , 0.6164979 , 0.5575489 ],\n",
       "       [0.5756943 , 0.66140044, 0.5118952 , 0.56192577, 0.5178262 ,\n",
       "        0.605145  , 0.5236926 , 0.5932316 , 0.59781474, 0.64728624,\n",
       "        0.58165485, 0.        , 0.6219094 , 0.69458276, 0.68409187,\n",
       "        0.5258639 , 0.6129594 , 0.6379843 , 0.5849117 , 0.54829156],\n",
       "       [0.55418503, 0.57249767, 0.6722852 , 0.5429733 , 0.6131284 ,\n",
       "        0.62813675, 0.62890625, 0.6357052 , 0.6622532 , 0.7230361 ,\n",
       "        0.6938951 , 0.6219094 , 0.        , 0.6967981 , 0.7004378 ,\n",
       "        0.69124   , 0.65006816, 0.63994944, 0.6390564 , 0.6200554 ],\n",
       "       [0.54703164, 0.5161962 , 0.5804509 , 0.48830718, 0.6667811 ,\n",
       "        0.6673595 , 0.6721801 , 0.7111555 , 0.71552527, 0.7922088 ,\n",
       "        0.75803125, 0.69458276, 0.6967981 , 0.        , 0.74676913,\n",
       "        0.71801317, 0.7169826 , 0.73852015, 0.73581624, 0.69065845],\n",
       "       [0.5474584 , 0.6085554 , 0.4865635 , 0.51291597, 0.6608289 ,\n",
       "        0.61901903, 0.6958456 , 0.601743  , 0.65460366, 0.6486681 ,\n",
       "        0.67725456, 0.68409187, 0.7004378 , 0.74676913, 0.        ,\n",
       "        0.67404354, 0.61937064, 0.61853325, 0.66901517, 0.62293875],\n",
       "       [0.57636845, 0.51668215, 0.5561131 , 0.630743  , 0.5250766 ,\n",
       "        0.59347785, 0.61941034, 0.61065006, 0.61652476, 0.68660337,\n",
       "        0.5869672 , 0.5258639 , 0.69124   , 0.71801317, 0.67404354,\n",
       "        0.        , 0.6124544 , 0.6494854 , 0.62036943, 0.5866032 ],\n",
       "       [0.6015767 , 0.5951252 , 0.59417   , 0.58775413, 0.5879374 ,\n",
       "        0.52778137, 0.55924666, 0.56515425, 0.56793994, 0.5637649 ,\n",
       "        0.5657488 , 0.6129594 , 0.65006816, 0.7169826 , 0.61937064,\n",
       "        0.6124544 , 0.        , 0.5648652 , 0.54413676, 0.5588951 ],\n",
       "       [0.5818931 , 0.5472866 , 0.56035817, 0.6255219 , 0.6184679 ,\n",
       "        0.59734654, 0.60863745, 0.589641  , 0.58382094, 0.6019248 ,\n",
       "        0.6054145 , 0.6379843 , 0.63994944, 0.73852015, 0.61853325,\n",
       "        0.6494854 , 0.5648652 , 0.        , 0.6388842 , 0.60678244],\n",
       "       [0.5466555 , 0.59011805, 0.657303  , 0.50276613, 0.5803782 ,\n",
       "        0.57136613, 0.5467709 , 0.6114227 , 0.61032414, 0.6667746 ,\n",
       "        0.6164979 , 0.5849117 , 0.6390564 , 0.73581624, 0.66901517,\n",
       "        0.62036943, 0.54413676, 0.6388842 , 0.        , 0.57267725],\n",
       "       [0.5310434 , 0.5904481 , 0.58218896, 0.57443976, 0.5083417 ,\n",
       "        0.5919316 , 0.56115377, 0.5498729 , 0.5570011 , 0.5849593 ,\n",
       "        0.5575489 , 0.54829156, 0.6200554 , 0.69065845, 0.62293875,\n",
       "        0.5866032 , 0.5588951 , 0.60678244, 0.57267725, 0.        ]],\n",
       "      dtype=float32)"
      ]
     },
     "execution_count": 24,
     "metadata": {},
     "output_type": "execute_result"
    }
   ],
   "source": [
    "dist_m[-20:,-20:]"
   ]
  },
  {
   "cell_type": "code",
   "execution_count": 23,
   "metadata": {},
   "outputs": [],
   "source": [
    "np.save(\"FFHQ_pairwise_LPIPS_distance_matric-original\", dist_m)"
   ]
  },
  {
   "cell_type": "code",
   "execution_count": null,
   "metadata": {},
   "outputs": [],
   "source": []
  }
 ],
 "metadata": {
  "kernelspec": {
   "display_name": "Python 3",
   "language": "python",
   "name": "python3"
  },
  "language_info": {
   "codemirror_mode": {
    "name": "ipython",
    "version": 3
   },
   "file_extension": ".py",
   "mimetype": "text/x-python",
   "name": "python",
   "nbconvert_exporter": "python",
   "pygments_lexer": "ipython3",
   "version": "3.6.10"
  }
 },
 "nbformat": 4,
 "nbformat_minor": 4
}
